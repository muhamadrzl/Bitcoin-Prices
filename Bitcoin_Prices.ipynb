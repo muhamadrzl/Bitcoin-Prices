{
  "cells": [
    {
      "cell_type": "markdown",
      "metadata": {
        "id": "bmAMGuHsNFjD"
      },
      "source": [
        "Bitcoin is a cryptocurrency, a virtual currency designed to act as money and a form of payment outside the control of any one person, group, or entity, and thus removing the need for third-party involvement in financial transactions.\n",
        "\n",
        "However, there are issues with bitcoins such as hackers breaking into accounts, high volatility of bitcoins, and long transaction delays. Considering the volatility it's always challenging to predict the bitcoin price.\n",
        "\n",
        "In this discussion, we will deep dive how to predict the bitcoin price using two methods, SARIMAX and LSTM"
      ]
    },
    {
      "cell_type": "code",
      "execution_count": null,
      "metadata": {
        "id": "F4XZZ1-7R5U7"
      },
      "outputs": [],
      "source": [
        "import pandas as pd\n",
        "import numpy as np\n",
        "import matplotlib.pyplot as plt\n",
        "from datetime import datetime\n",
        "import seaborn as sns\n",
        "import plotly.express as px\n",
        "from itertools import product\n",
        "import warnings\n",
        "import statsmodels.api as sm\n",
        "plt.style.use('seaborn-darkgrid')"
      ]
    },
    {
      "cell_type": "code",
      "execution_count": null,
      "metadata": {
        "id": "4gWyBmJXreqw",
        "colab": {
          "base_uri": "https://localhost:8080/"
        },
        "outputId": "4c27844a-e540-4d7b-b799-0663e0672a5c"
      },
      "outputs": [
        {
          "output_type": "stream",
          "name": "stdout",
          "text": [
            "Drive already mounted at /content/drive/; to attempt to forcibly remount, call drive.mount(\"/content/drive/\", force_remount=True).\n"
          ]
        }
      ],
      "source": [
        "from google.colab import drive\n",
        "drive.mount('/content/drive/')"
      ]
    },
    {
      "cell_type": "code",
      "execution_count": null,
      "metadata": {
        "id": "TFI5FogZrAGt",
        "colab": {
          "base_uri": "https://localhost:8080/"
        },
        "outputId": "5a018022-b115-43a4-8f46-a7400350267d"
      },
      "outputs": [
        {
          "output_type": "stream",
          "name": "stdout",
          "text": [
            "Archive:  /content/drive/MyDrive/archive.zip\n",
            "replace coinbaseUSD_1-min_data_2014-12-01_to_2018-11-11.csv? [y]es, [n]o, [A]ll, [N]one, [r]ename: A\n",
            "  inflating: coinbaseUSD_1-min_data_2014-12-01_to_2018-11-11.csv  \n"
          ]
        }
      ],
      "source": [
        "! unzip '/content/drive/MyDrive/archive.zip'"
      ]
    },
    {
      "cell_type": "code",
      "execution_count": null,
      "metadata": {
        "id": "DaDHO5QLrbKJ"
      },
      "outputs": [],
      "source": [
        "import datetime, pytz\n",
        "#define a conversion function for the native timestamps in the csv file\n",
        "def dateparse (time_in_secs):    \n",
        "    return pytz.utc.localize(datetime.datetime.fromtimestamp(float(time_in_secs)))\n",
        "\n",
        "\n",
        "bitstamp= pd.read_csv('/content/coinbaseUSD_1-min_data_2014-12-01_to_2018-11-11.csv', parse_dates=[0], date_parser=dateparse)"
      ]
    },
    {
      "cell_type": "markdown",
      "metadata": {
        "id": "fjx1r4nQjpma"
      },
      "source": [
        "We should parse it first and set the date as an index"
      ]
    },
    {
      "cell_type": "code",
      "execution_count": null,
      "metadata": {
        "id": "u6L7AIA5rVW2",
        "colab": {
          "base_uri": "https://localhost:8080/",
          "height": 672
        },
        "outputId": "f5f2fc1b-45c0-447f-8c7a-b7048ebee6dc"
      },
      "outputs": [
        {
          "output_type": "execute_result",
          "data": {
            "text/plain": [
              "                              Open     High      Low    Close  Volume_(BTC)  \\\n",
              "Timestamp                                                                     \n",
              "2014-12-01 05:33:00+00:00   300.00   300.00   300.00   300.00      0.010000   \n",
              "2014-12-01 05:34:00+00:00      NaN      NaN      NaN      NaN           NaN   \n",
              "2014-12-01 05:35:00+00:00      NaN      NaN      NaN      NaN           NaN   \n",
              "2014-12-01 05:36:00+00:00      NaN      NaN      NaN      NaN           NaN   \n",
              "2014-12-01 05:37:00+00:00      NaN      NaN      NaN      NaN           NaN   \n",
              "...                            ...      ...      ...      ...           ...   \n",
              "2018-11-10 23:56:00+00:00  6347.41  6347.42  6347.41  6347.42      0.484960   \n",
              "2018-11-10 23:57:00+00:00  6347.41  6347.42  6347.41  6347.42      0.770757   \n",
              "2018-11-10 23:58:00+00:00  6347.41  6347.42  6347.41  6347.42      1.213145   \n",
              "2018-11-10 23:59:00+00:00  6347.41  6347.42  6347.41  6347.42      1.714091   \n",
              "2018-11-11 00:00:00+00:00  6347.42  6347.42  6347.41  6347.42      0.489324   \n",
              "\n",
              "                           Volume_(Currency)  Weighted_Price  \n",
              "Timestamp                                                     \n",
              "2014-12-01 05:33:00+00:00           3.000000      300.000000  \n",
              "2014-12-01 05:34:00+00:00                NaN             NaN  \n",
              "2014-12-01 05:35:00+00:00                NaN             NaN  \n",
              "2014-12-01 05:36:00+00:00                NaN             NaN  \n",
              "2014-12-01 05:37:00+00:00                NaN             NaN  \n",
              "...                                      ...             ...  \n",
              "2018-11-10 23:56:00+00:00        3078.241490     6347.417225  \n",
              "2018-11-10 23:57:00+00:00        4892.318043     6347.419294  \n",
              "2018-11-10 23:58:00+00:00        7700.341614     6347.418653  \n",
              "2018-11-10 23:59:00+00:00       10880.053958     6347.418881  \n",
              "2018-11-11 00:00:00+00:00        3105.944897     6347.417439  \n",
              "\n",
              "[2016354 rows x 7 columns]"
            ],
            "text/html": [
              "\n",
              "  <div id=\"df-31f55820-688f-4323-a0dc-db824632d6f1\">\n",
              "    <div class=\"colab-df-container\">\n",
              "      <div>\n",
              "<style scoped>\n",
              "    .dataframe tbody tr th:only-of-type {\n",
              "        vertical-align: middle;\n",
              "    }\n",
              "\n",
              "    .dataframe tbody tr th {\n",
              "        vertical-align: top;\n",
              "    }\n",
              "\n",
              "    .dataframe thead th {\n",
              "        text-align: right;\n",
              "    }\n",
              "</style>\n",
              "<table border=\"1\" class=\"dataframe\">\n",
              "  <thead>\n",
              "    <tr style=\"text-align: right;\">\n",
              "      <th></th>\n",
              "      <th>Open</th>\n",
              "      <th>High</th>\n",
              "      <th>Low</th>\n",
              "      <th>Close</th>\n",
              "      <th>Volume_(BTC)</th>\n",
              "      <th>Volume_(Currency)</th>\n",
              "      <th>Weighted_Price</th>\n",
              "    </tr>\n",
              "    <tr>\n",
              "      <th>Timestamp</th>\n",
              "      <th></th>\n",
              "      <th></th>\n",
              "      <th></th>\n",
              "      <th></th>\n",
              "      <th></th>\n",
              "      <th></th>\n",
              "      <th></th>\n",
              "    </tr>\n",
              "  </thead>\n",
              "  <tbody>\n",
              "    <tr>\n",
              "      <th>2014-12-01 05:33:00+00:00</th>\n",
              "      <td>300.00</td>\n",
              "      <td>300.00</td>\n",
              "      <td>300.00</td>\n",
              "      <td>300.00</td>\n",
              "      <td>0.010000</td>\n",
              "      <td>3.000000</td>\n",
              "      <td>300.000000</td>\n",
              "    </tr>\n",
              "    <tr>\n",
              "      <th>2014-12-01 05:34:00+00:00</th>\n",
              "      <td>NaN</td>\n",
              "      <td>NaN</td>\n",
              "      <td>NaN</td>\n",
              "      <td>NaN</td>\n",
              "      <td>NaN</td>\n",
              "      <td>NaN</td>\n",
              "      <td>NaN</td>\n",
              "    </tr>\n",
              "    <tr>\n",
              "      <th>2014-12-01 05:35:00+00:00</th>\n",
              "      <td>NaN</td>\n",
              "      <td>NaN</td>\n",
              "      <td>NaN</td>\n",
              "      <td>NaN</td>\n",
              "      <td>NaN</td>\n",
              "      <td>NaN</td>\n",
              "      <td>NaN</td>\n",
              "    </tr>\n",
              "    <tr>\n",
              "      <th>2014-12-01 05:36:00+00:00</th>\n",
              "      <td>NaN</td>\n",
              "      <td>NaN</td>\n",
              "      <td>NaN</td>\n",
              "      <td>NaN</td>\n",
              "      <td>NaN</td>\n",
              "      <td>NaN</td>\n",
              "      <td>NaN</td>\n",
              "    </tr>\n",
              "    <tr>\n",
              "      <th>2014-12-01 05:37:00+00:00</th>\n",
              "      <td>NaN</td>\n",
              "      <td>NaN</td>\n",
              "      <td>NaN</td>\n",
              "      <td>NaN</td>\n",
              "      <td>NaN</td>\n",
              "      <td>NaN</td>\n",
              "      <td>NaN</td>\n",
              "    </tr>\n",
              "    <tr>\n",
              "      <th>...</th>\n",
              "      <td>...</td>\n",
              "      <td>...</td>\n",
              "      <td>...</td>\n",
              "      <td>...</td>\n",
              "      <td>...</td>\n",
              "      <td>...</td>\n",
              "      <td>...</td>\n",
              "    </tr>\n",
              "    <tr>\n",
              "      <th>2018-11-10 23:56:00+00:00</th>\n",
              "      <td>6347.41</td>\n",
              "      <td>6347.42</td>\n",
              "      <td>6347.41</td>\n",
              "      <td>6347.42</td>\n",
              "      <td>0.484960</td>\n",
              "      <td>3078.241490</td>\n",
              "      <td>6347.417225</td>\n",
              "    </tr>\n",
              "    <tr>\n",
              "      <th>2018-11-10 23:57:00+00:00</th>\n",
              "      <td>6347.41</td>\n",
              "      <td>6347.42</td>\n",
              "      <td>6347.41</td>\n",
              "      <td>6347.42</td>\n",
              "      <td>0.770757</td>\n",
              "      <td>4892.318043</td>\n",
              "      <td>6347.419294</td>\n",
              "    </tr>\n",
              "    <tr>\n",
              "      <th>2018-11-10 23:58:00+00:00</th>\n",
              "      <td>6347.41</td>\n",
              "      <td>6347.42</td>\n",
              "      <td>6347.41</td>\n",
              "      <td>6347.42</td>\n",
              "      <td>1.213145</td>\n",
              "      <td>7700.341614</td>\n",
              "      <td>6347.418653</td>\n",
              "    </tr>\n",
              "    <tr>\n",
              "      <th>2018-11-10 23:59:00+00:00</th>\n",
              "      <td>6347.41</td>\n",
              "      <td>6347.42</td>\n",
              "      <td>6347.41</td>\n",
              "      <td>6347.42</td>\n",
              "      <td>1.714091</td>\n",
              "      <td>10880.053958</td>\n",
              "      <td>6347.418881</td>\n",
              "    </tr>\n",
              "    <tr>\n",
              "      <th>2018-11-11 00:00:00+00:00</th>\n",
              "      <td>6347.42</td>\n",
              "      <td>6347.42</td>\n",
              "      <td>6347.41</td>\n",
              "      <td>6347.42</td>\n",
              "      <td>0.489324</td>\n",
              "      <td>3105.944897</td>\n",
              "      <td>6347.417439</td>\n",
              "    </tr>\n",
              "  </tbody>\n",
              "</table>\n",
              "<p>2016354 rows × 7 columns</p>\n",
              "</div>\n",
              "      <button class=\"colab-df-convert\" onclick=\"convertToInteractive('df-31f55820-688f-4323-a0dc-db824632d6f1')\"\n",
              "              title=\"Convert this dataframe to an interactive table.\"\n",
              "              style=\"display:none;\">\n",
              "        \n",
              "  <svg xmlns=\"http://www.w3.org/2000/svg\" height=\"24px\"viewBox=\"0 0 24 24\"\n",
              "       width=\"24px\">\n",
              "    <path d=\"M0 0h24v24H0V0z\" fill=\"none\"/>\n",
              "    <path d=\"M18.56 5.44l.94 2.06.94-2.06 2.06-.94-2.06-.94-.94-2.06-.94 2.06-2.06.94zm-11 1L8.5 8.5l.94-2.06 2.06-.94-2.06-.94L8.5 2.5l-.94 2.06-2.06.94zm10 10l.94 2.06.94-2.06 2.06-.94-2.06-.94-.94-2.06-.94 2.06-2.06.94z\"/><path d=\"M17.41 7.96l-1.37-1.37c-.4-.4-.92-.59-1.43-.59-.52 0-1.04.2-1.43.59L10.3 9.45l-7.72 7.72c-.78.78-.78 2.05 0 2.83L4 21.41c.39.39.9.59 1.41.59.51 0 1.02-.2 1.41-.59l7.78-7.78 2.81-2.81c.8-.78.8-2.07 0-2.86zM5.41 20L4 18.59l7.72-7.72 1.47 1.35L5.41 20z\"/>\n",
              "  </svg>\n",
              "      </button>\n",
              "      \n",
              "  <style>\n",
              "    .colab-df-container {\n",
              "      display:flex;\n",
              "      flex-wrap:wrap;\n",
              "      gap: 12px;\n",
              "    }\n",
              "\n",
              "    .colab-df-convert {\n",
              "      background-color: #E8F0FE;\n",
              "      border: none;\n",
              "      border-radius: 50%;\n",
              "      cursor: pointer;\n",
              "      display: none;\n",
              "      fill: #1967D2;\n",
              "      height: 32px;\n",
              "      padding: 0 0 0 0;\n",
              "      width: 32px;\n",
              "    }\n",
              "\n",
              "    .colab-df-convert:hover {\n",
              "      background-color: #E2EBFA;\n",
              "      box-shadow: 0px 1px 2px rgba(60, 64, 67, 0.3), 0px 1px 3px 1px rgba(60, 64, 67, 0.15);\n",
              "      fill: #174EA6;\n",
              "    }\n",
              "\n",
              "    [theme=dark] .colab-df-convert {\n",
              "      background-color: #3B4455;\n",
              "      fill: #D2E3FC;\n",
              "    }\n",
              "\n",
              "    [theme=dark] .colab-df-convert:hover {\n",
              "      background-color: #434B5C;\n",
              "      box-shadow: 0px 1px 3px 1px rgba(0, 0, 0, 0.15);\n",
              "      filter: drop-shadow(0px 1px 2px rgba(0, 0, 0, 0.3));\n",
              "      fill: #FFFFFF;\n",
              "    }\n",
              "  </style>\n",
              "\n",
              "      <script>\n",
              "        const buttonEl =\n",
              "          document.querySelector('#df-31f55820-688f-4323-a0dc-db824632d6f1 button.colab-df-convert');\n",
              "        buttonEl.style.display =\n",
              "          google.colab.kernel.accessAllowed ? 'block' : 'none';\n",
              "\n",
              "        async function convertToInteractive(key) {\n",
              "          const element = document.querySelector('#df-31f55820-688f-4323-a0dc-db824632d6f1');\n",
              "          const dataTable =\n",
              "            await google.colab.kernel.invokeFunction('convertToInteractive',\n",
              "                                                     [key], {});\n",
              "          if (!dataTable) return;\n",
              "\n",
              "          const docLinkHtml = 'Like what you see? Visit the ' +\n",
              "            '<a target=\"_blank\" href=https://colab.research.google.com/notebooks/data_table.ipynb>data table notebook</a>'\n",
              "            + ' to learn more about interactive tables.';\n",
              "          element.innerHTML = '';\n",
              "          dataTable['output_type'] = 'display_data';\n",
              "          await google.colab.output.renderOutput(dataTable, element);\n",
              "          const docLink = document.createElement('div');\n",
              "          docLink.innerHTML = docLinkHtml;\n",
              "          element.appendChild(docLink);\n",
              "        }\n",
              "      </script>\n",
              "    </div>\n",
              "  </div>\n",
              "  "
            ]
          },
          "metadata": {},
          "execution_count": 78
        },
        {
          "output_type": "stream",
          "name": "stdout",
          "text": [
            "Warning: total number of rows (2016354) exceeds max_rows (20000). Limiting to first (20000) rows.\n"
          ]
        }
      ],
      "source": [
        "bitstamp = bitstamp.set_index('Timestamp')\n",
        "bitstamp"
      ]
    },
    {
      "cell_type": "markdown",
      "metadata": {
        "id": "UbH4ffcwk_Hx"
      },
      "source": [
        "Then we take the resample every day, since our dataset is measured in minutes, we are going to make it into daily dataset by aggregating it using mean measurement"
      ]
    },
    {
      "cell_type": "code",
      "execution_count": null,
      "metadata": {
        "id": "Mq-nYGRzZ-WW",
        "colab": {
          "base_uri": "https://localhost:8080/",
          "height": 672
        },
        "outputId": "324ab71b-9699-4488-9df3-f6ce0e4ac69e"
      },
      "outputs": [
        {
          "output_type": "execute_result",
          "data": {
            "text/plain": [
              "                                  Open         High          Low        Close  \\\n",
              "Timestamp                                                                       \n",
              "2014-12-01 00:00:00+00:00   335.000000   335.000000   335.000000   335.000000   \n",
              "2014-12-02 00:00:00+00:00   377.821429   377.857143   377.821429   377.857143   \n",
              "2014-12-03 00:00:00+00:00   377.818333   377.818333   377.818333   377.818333   \n",
              "2014-12-04 00:00:00+00:00   377.100000   377.100000   377.100000   377.100000   \n",
              "2014-12-05 00:00:00+00:00   377.550000   377.550000   377.550000   377.550000   \n",
              "...                                ...          ...          ...          ...   \n",
              "2018-11-07 00:00:00+00:00  6506.215896  6506.543979  6505.922681  6506.260521   \n",
              "2018-11-08 00:00:00+00:00  6451.058778  6451.349576  6450.686729  6450.996382   \n",
              "2018-11-09 00:00:00+00:00  6366.825292  6367.088458  6366.508576  6366.783681   \n",
              "2018-11-10 00:00:00+00:00  6355.673826  6355.799250  6355.534903  6355.680160   \n",
              "2018-11-11 00:00:00+00:00  6347.420000  6347.420000  6347.410000  6347.420000   \n",
              "\n",
              "                           Volume_(BTC)  Volume_(Currency)  Weighted_Price  \n",
              "Timestamp                                                                   \n",
              "2014-12-01 00:00:00+00:00      0.014139           4.881387      335.000000  \n",
              "2014-12-02 00:00:00+00:00      2.144800         810.724043      377.854911  \n",
              "2014-12-03 00:00:00+00:00      0.091101          34.419664      377.818333  \n",
              "2014-12-04 00:00:00+00:00      0.010000           3.771000      377.100000  \n",
              "2014-12-05 00:00:00+00:00      0.012500           4.720500      377.550000  \n",
              "...                                 ...                ...             ...  \n",
              "2018-11-07 00:00:00+00:00      3.988002       25939.588076     6506.226359  \n",
              "2018-11-08 00:00:00+00:00      3.617201       23308.976039     6451.014558  \n",
              "2018-11-09 00:00:00+00:00      3.131194       19912.815846     6366.780335  \n",
              "2018-11-10 00:00:00+00:00      1.629005       10353.941713     6355.675229  \n",
              "2018-11-11 00:00:00+00:00      0.489324        3105.944897     6347.417439  \n",
              "\n",
              "[1442 rows x 7 columns]"
            ],
            "text/html": [
              "\n",
              "  <div id=\"df-458a36b2-d634-4f09-ab22-553247e3751e\">\n",
              "    <div class=\"colab-df-container\">\n",
              "      <div>\n",
              "<style scoped>\n",
              "    .dataframe tbody tr th:only-of-type {\n",
              "        vertical-align: middle;\n",
              "    }\n",
              "\n",
              "    .dataframe tbody tr th {\n",
              "        vertical-align: top;\n",
              "    }\n",
              "\n",
              "    .dataframe thead th {\n",
              "        text-align: right;\n",
              "    }\n",
              "</style>\n",
              "<table border=\"1\" class=\"dataframe\">\n",
              "  <thead>\n",
              "    <tr style=\"text-align: right;\">\n",
              "      <th></th>\n",
              "      <th>Open</th>\n",
              "      <th>High</th>\n",
              "      <th>Low</th>\n",
              "      <th>Close</th>\n",
              "      <th>Volume_(BTC)</th>\n",
              "      <th>Volume_(Currency)</th>\n",
              "      <th>Weighted_Price</th>\n",
              "    </tr>\n",
              "    <tr>\n",
              "      <th>Timestamp</th>\n",
              "      <th></th>\n",
              "      <th></th>\n",
              "      <th></th>\n",
              "      <th></th>\n",
              "      <th></th>\n",
              "      <th></th>\n",
              "      <th></th>\n",
              "    </tr>\n",
              "  </thead>\n",
              "  <tbody>\n",
              "    <tr>\n",
              "      <th>2014-12-01 00:00:00+00:00</th>\n",
              "      <td>335.000000</td>\n",
              "      <td>335.000000</td>\n",
              "      <td>335.000000</td>\n",
              "      <td>335.000000</td>\n",
              "      <td>0.014139</td>\n",
              "      <td>4.881387</td>\n",
              "      <td>335.000000</td>\n",
              "    </tr>\n",
              "    <tr>\n",
              "      <th>2014-12-02 00:00:00+00:00</th>\n",
              "      <td>377.821429</td>\n",
              "      <td>377.857143</td>\n",
              "      <td>377.821429</td>\n",
              "      <td>377.857143</td>\n",
              "      <td>2.144800</td>\n",
              "      <td>810.724043</td>\n",
              "      <td>377.854911</td>\n",
              "    </tr>\n",
              "    <tr>\n",
              "      <th>2014-12-03 00:00:00+00:00</th>\n",
              "      <td>377.818333</td>\n",
              "      <td>377.818333</td>\n",
              "      <td>377.818333</td>\n",
              "      <td>377.818333</td>\n",
              "      <td>0.091101</td>\n",
              "      <td>34.419664</td>\n",
              "      <td>377.818333</td>\n",
              "    </tr>\n",
              "    <tr>\n",
              "      <th>2014-12-04 00:00:00+00:00</th>\n",
              "      <td>377.100000</td>\n",
              "      <td>377.100000</td>\n",
              "      <td>377.100000</td>\n",
              "      <td>377.100000</td>\n",
              "      <td>0.010000</td>\n",
              "      <td>3.771000</td>\n",
              "      <td>377.100000</td>\n",
              "    </tr>\n",
              "    <tr>\n",
              "      <th>2014-12-05 00:00:00+00:00</th>\n",
              "      <td>377.550000</td>\n",
              "      <td>377.550000</td>\n",
              "      <td>377.550000</td>\n",
              "      <td>377.550000</td>\n",
              "      <td>0.012500</td>\n",
              "      <td>4.720500</td>\n",
              "      <td>377.550000</td>\n",
              "    </tr>\n",
              "    <tr>\n",
              "      <th>...</th>\n",
              "      <td>...</td>\n",
              "      <td>...</td>\n",
              "      <td>...</td>\n",
              "      <td>...</td>\n",
              "      <td>...</td>\n",
              "      <td>...</td>\n",
              "      <td>...</td>\n",
              "    </tr>\n",
              "    <tr>\n",
              "      <th>2018-11-07 00:00:00+00:00</th>\n",
              "      <td>6506.215896</td>\n",
              "      <td>6506.543979</td>\n",
              "      <td>6505.922681</td>\n",
              "      <td>6506.260521</td>\n",
              "      <td>3.988002</td>\n",
              "      <td>25939.588076</td>\n",
              "      <td>6506.226359</td>\n",
              "    </tr>\n",
              "    <tr>\n",
              "      <th>2018-11-08 00:00:00+00:00</th>\n",
              "      <td>6451.058778</td>\n",
              "      <td>6451.349576</td>\n",
              "      <td>6450.686729</td>\n",
              "      <td>6450.996382</td>\n",
              "      <td>3.617201</td>\n",
              "      <td>23308.976039</td>\n",
              "      <td>6451.014558</td>\n",
              "    </tr>\n",
              "    <tr>\n",
              "      <th>2018-11-09 00:00:00+00:00</th>\n",
              "      <td>6366.825292</td>\n",
              "      <td>6367.088458</td>\n",
              "      <td>6366.508576</td>\n",
              "      <td>6366.783681</td>\n",
              "      <td>3.131194</td>\n",
              "      <td>19912.815846</td>\n",
              "      <td>6366.780335</td>\n",
              "    </tr>\n",
              "    <tr>\n",
              "      <th>2018-11-10 00:00:00+00:00</th>\n",
              "      <td>6355.673826</td>\n",
              "      <td>6355.799250</td>\n",
              "      <td>6355.534903</td>\n",
              "      <td>6355.680160</td>\n",
              "      <td>1.629005</td>\n",
              "      <td>10353.941713</td>\n",
              "      <td>6355.675229</td>\n",
              "    </tr>\n",
              "    <tr>\n",
              "      <th>2018-11-11 00:00:00+00:00</th>\n",
              "      <td>6347.420000</td>\n",
              "      <td>6347.420000</td>\n",
              "      <td>6347.410000</td>\n",
              "      <td>6347.420000</td>\n",
              "      <td>0.489324</td>\n",
              "      <td>3105.944897</td>\n",
              "      <td>6347.417439</td>\n",
              "    </tr>\n",
              "  </tbody>\n",
              "</table>\n",
              "<p>1442 rows × 7 columns</p>\n",
              "</div>\n",
              "      <button class=\"colab-df-convert\" onclick=\"convertToInteractive('df-458a36b2-d634-4f09-ab22-553247e3751e')\"\n",
              "              title=\"Convert this dataframe to an interactive table.\"\n",
              "              style=\"display:none;\">\n",
              "        \n",
              "  <svg xmlns=\"http://www.w3.org/2000/svg\" height=\"24px\"viewBox=\"0 0 24 24\"\n",
              "       width=\"24px\">\n",
              "    <path d=\"M0 0h24v24H0V0z\" fill=\"none\"/>\n",
              "    <path d=\"M18.56 5.44l.94 2.06.94-2.06 2.06-.94-2.06-.94-.94-2.06-.94 2.06-2.06.94zm-11 1L8.5 8.5l.94-2.06 2.06-.94-2.06-.94L8.5 2.5l-.94 2.06-2.06.94zm10 10l.94 2.06.94-2.06 2.06-.94-2.06-.94-.94-2.06-.94 2.06-2.06.94z\"/><path d=\"M17.41 7.96l-1.37-1.37c-.4-.4-.92-.59-1.43-.59-.52 0-1.04.2-1.43.59L10.3 9.45l-7.72 7.72c-.78.78-.78 2.05 0 2.83L4 21.41c.39.39.9.59 1.41.59.51 0 1.02-.2 1.41-.59l7.78-7.78 2.81-2.81c.8-.78.8-2.07 0-2.86zM5.41 20L4 18.59l7.72-7.72 1.47 1.35L5.41 20z\"/>\n",
              "  </svg>\n",
              "      </button>\n",
              "      \n",
              "  <style>\n",
              "    .colab-df-container {\n",
              "      display:flex;\n",
              "      flex-wrap:wrap;\n",
              "      gap: 12px;\n",
              "    }\n",
              "\n",
              "    .colab-df-convert {\n",
              "      background-color: #E8F0FE;\n",
              "      border: none;\n",
              "      border-radius: 50%;\n",
              "      cursor: pointer;\n",
              "      display: none;\n",
              "      fill: #1967D2;\n",
              "      height: 32px;\n",
              "      padding: 0 0 0 0;\n",
              "      width: 32px;\n",
              "    }\n",
              "\n",
              "    .colab-df-convert:hover {\n",
              "      background-color: #E2EBFA;\n",
              "      box-shadow: 0px 1px 2px rgba(60, 64, 67, 0.3), 0px 1px 3px 1px rgba(60, 64, 67, 0.15);\n",
              "      fill: #174EA6;\n",
              "    }\n",
              "\n",
              "    [theme=dark] .colab-df-convert {\n",
              "      background-color: #3B4455;\n",
              "      fill: #D2E3FC;\n",
              "    }\n",
              "\n",
              "    [theme=dark] .colab-df-convert:hover {\n",
              "      background-color: #434B5C;\n",
              "      box-shadow: 0px 1px 3px 1px rgba(0, 0, 0, 0.15);\n",
              "      filter: drop-shadow(0px 1px 2px rgba(0, 0, 0, 0.3));\n",
              "      fill: #FFFFFF;\n",
              "    }\n",
              "  </style>\n",
              "\n",
              "      <script>\n",
              "        const buttonEl =\n",
              "          document.querySelector('#df-458a36b2-d634-4f09-ab22-553247e3751e button.colab-df-convert');\n",
              "        buttonEl.style.display =\n",
              "          google.colab.kernel.accessAllowed ? 'block' : 'none';\n",
              "\n",
              "        async function convertToInteractive(key) {\n",
              "          const element = document.querySelector('#df-458a36b2-d634-4f09-ab22-553247e3751e');\n",
              "          const dataTable =\n",
              "            await google.colab.kernel.invokeFunction('convertToInteractive',\n",
              "                                                     [key], {});\n",
              "          if (!dataTable) return;\n",
              "\n",
              "          const docLinkHtml = 'Like what you see? Visit the ' +\n",
              "            '<a target=\"_blank\" href=https://colab.research.google.com/notebooks/data_table.ipynb>data table notebook</a>'\n",
              "            + ' to learn more about interactive tables.';\n",
              "          element.innerHTML = '';\n",
              "          dataTable['output_type'] = 'display_data';\n",
              "          await google.colab.output.renderOutput(dataTable, element);\n",
              "          const docLink = document.createElement('div');\n",
              "          docLink.innerHTML = docLinkHtml;\n",
              "          element.appendChild(docLink);\n",
              "        }\n",
              "      </script>\n",
              "    </div>\n",
              "  </div>\n",
              "  "
            ]
          },
          "metadata": {},
          "execution_count": 111
        }
      ],
      "source": [
        "bitstamp = bitstamp.resample('D').mean()\n",
        "bitstamp"
      ]
    },
    {
      "cell_type": "markdown",
      "metadata": {
        "id": "33FaahDfl9mw"
      },
      "source": [
        "Making the data to have non nan values accross all features. We take measure to interpolate the entire nan values, usin interpolate in pandas"
      ]
    },
    {
      "cell_type": "code",
      "execution_count": null,
      "metadata": {
        "id": "d_dBv4KuumqA"
      },
      "outputs": [],
      "source": [
        "bitstamp = bitstamp.interpolate()"
      ]
    },
    {
      "cell_type": "code",
      "execution_count": null,
      "metadata": {
        "id": "ppf1T453rzxm",
        "colab": {
          "base_uri": "https://localhost:8080/"
        },
        "outputId": "ef46d0a7-a58e-455b-b9ef-49d6f0388cfb"
      },
      "outputs": [
        {
          "output_type": "execute_result",
          "data": {
            "text/plain": [
              "0.0"
            ]
          },
          "metadata": {},
          "execution_count": 81
        }
      ],
      "source": [
        "bitstamp.Weighted_Price.isnull().sum()/len(bitstamp)"
      ]
    },
    {
      "cell_type": "code",
      "execution_count": null,
      "metadata": {
        "id": "nNxdksf9h0wi"
      },
      "outputs": [],
      "source": [
        "bitstamp_ = bitstamp.reset_index()\n",
        "X= bitstamp[['Open', 'High', 'Low', 'Close', 'Volume_(BTC)',\n",
        "        'Volume_(Currency)']]\n",
        "y = bitstamp[['Weighted_Price']]"
      ]
    },
    {
      "cell_type": "markdown",
      "metadata": {
        "id": "U7C5bHwumo3X"
      },
      "source": [
        "Note that we will use SARIMAX method, meaning that it employs exogenous features to predict the target feature. Here is we separate the exogenous features as X and the target feature as y.\n",
        "X comprises of Open, High, Low, Close, Volume_(BTC), and Volume_(Currency)"
      ]
    },
    {
      "cell_type": "code",
      "execution_count": null,
      "metadata": {
        "id": "S9vGumZypdys",
        "colab": {
          "base_uri": "https://localhost:8080/",
          "height": 455
        },
        "outputId": "e0618404-70a5-402e-c675-3556c8348414"
      },
      "outputs": [
        {
          "output_type": "execute_result",
          "data": {
            "text/plain": [
              "                                  Open         High          Low        Close  \\\n",
              "Timestamp                                                                       \n",
              "2014-12-01 00:00:00+00:00   335.000000   335.000000   335.000000   335.000000   \n",
              "2014-12-02 00:00:00+00:00   377.821429   377.857143   377.821429   377.857143   \n",
              "2014-12-03 00:00:00+00:00   377.818333   377.818333   377.818333   377.818333   \n",
              "2014-12-04 00:00:00+00:00   377.100000   377.100000   377.100000   377.100000   \n",
              "2014-12-05 00:00:00+00:00   377.550000   377.550000   377.550000   377.550000   \n",
              "...                                ...          ...          ...          ...   \n",
              "2018-11-07 00:00:00+00:00  6506.215896  6506.543979  6505.922681  6506.260521   \n",
              "2018-11-08 00:00:00+00:00  6451.058778  6451.349576  6450.686729  6450.996382   \n",
              "2018-11-09 00:00:00+00:00  6366.825292  6367.088458  6366.508576  6366.783681   \n",
              "2018-11-10 00:00:00+00:00  6355.673826  6355.799250  6355.534903  6355.680160   \n",
              "2018-11-11 00:00:00+00:00  6347.420000  6347.420000  6347.410000  6347.420000   \n",
              "\n",
              "                           Volume_(BTC)  Volume_(Currency)  \n",
              "Timestamp                                                   \n",
              "2014-12-01 00:00:00+00:00      0.014139           4.881387  \n",
              "2014-12-02 00:00:00+00:00      2.144800         810.724043  \n",
              "2014-12-03 00:00:00+00:00      0.091101          34.419664  \n",
              "2014-12-04 00:00:00+00:00      0.010000           3.771000  \n",
              "2014-12-05 00:00:00+00:00      0.012500           4.720500  \n",
              "...                                 ...                ...  \n",
              "2018-11-07 00:00:00+00:00      3.988002       25939.588076  \n",
              "2018-11-08 00:00:00+00:00      3.617201       23308.976039  \n",
              "2018-11-09 00:00:00+00:00      3.131194       19912.815846  \n",
              "2018-11-10 00:00:00+00:00      1.629005       10353.941713  \n",
              "2018-11-11 00:00:00+00:00      0.489324        3105.944897  \n",
              "\n",
              "[1442 rows x 6 columns]"
            ],
            "text/html": [
              "\n",
              "  <div id=\"df-3cdc38f0-2ded-463c-a25a-5ade667e303a\">\n",
              "    <div class=\"colab-df-container\">\n",
              "      <div>\n",
              "<style scoped>\n",
              "    .dataframe tbody tr th:only-of-type {\n",
              "        vertical-align: middle;\n",
              "    }\n",
              "\n",
              "    .dataframe tbody tr th {\n",
              "        vertical-align: top;\n",
              "    }\n",
              "\n",
              "    .dataframe thead th {\n",
              "        text-align: right;\n",
              "    }\n",
              "</style>\n",
              "<table border=\"1\" class=\"dataframe\">\n",
              "  <thead>\n",
              "    <tr style=\"text-align: right;\">\n",
              "      <th></th>\n",
              "      <th>Open</th>\n",
              "      <th>High</th>\n",
              "      <th>Low</th>\n",
              "      <th>Close</th>\n",
              "      <th>Volume_(BTC)</th>\n",
              "      <th>Volume_(Currency)</th>\n",
              "    </tr>\n",
              "    <tr>\n",
              "      <th>Timestamp</th>\n",
              "      <th></th>\n",
              "      <th></th>\n",
              "      <th></th>\n",
              "      <th></th>\n",
              "      <th></th>\n",
              "      <th></th>\n",
              "    </tr>\n",
              "  </thead>\n",
              "  <tbody>\n",
              "    <tr>\n",
              "      <th>2014-12-01 00:00:00+00:00</th>\n",
              "      <td>335.000000</td>\n",
              "      <td>335.000000</td>\n",
              "      <td>335.000000</td>\n",
              "      <td>335.000000</td>\n",
              "      <td>0.014139</td>\n",
              "      <td>4.881387</td>\n",
              "    </tr>\n",
              "    <tr>\n",
              "      <th>2014-12-02 00:00:00+00:00</th>\n",
              "      <td>377.821429</td>\n",
              "      <td>377.857143</td>\n",
              "      <td>377.821429</td>\n",
              "      <td>377.857143</td>\n",
              "      <td>2.144800</td>\n",
              "      <td>810.724043</td>\n",
              "    </tr>\n",
              "    <tr>\n",
              "      <th>2014-12-03 00:00:00+00:00</th>\n",
              "      <td>377.818333</td>\n",
              "      <td>377.818333</td>\n",
              "      <td>377.818333</td>\n",
              "      <td>377.818333</td>\n",
              "      <td>0.091101</td>\n",
              "      <td>34.419664</td>\n",
              "    </tr>\n",
              "    <tr>\n",
              "      <th>2014-12-04 00:00:00+00:00</th>\n",
              "      <td>377.100000</td>\n",
              "      <td>377.100000</td>\n",
              "      <td>377.100000</td>\n",
              "      <td>377.100000</td>\n",
              "      <td>0.010000</td>\n",
              "      <td>3.771000</td>\n",
              "    </tr>\n",
              "    <tr>\n",
              "      <th>2014-12-05 00:00:00+00:00</th>\n",
              "      <td>377.550000</td>\n",
              "      <td>377.550000</td>\n",
              "      <td>377.550000</td>\n",
              "      <td>377.550000</td>\n",
              "      <td>0.012500</td>\n",
              "      <td>4.720500</td>\n",
              "    </tr>\n",
              "    <tr>\n",
              "      <th>...</th>\n",
              "      <td>...</td>\n",
              "      <td>...</td>\n",
              "      <td>...</td>\n",
              "      <td>...</td>\n",
              "      <td>...</td>\n",
              "      <td>...</td>\n",
              "    </tr>\n",
              "    <tr>\n",
              "      <th>2018-11-07 00:00:00+00:00</th>\n",
              "      <td>6506.215896</td>\n",
              "      <td>6506.543979</td>\n",
              "      <td>6505.922681</td>\n",
              "      <td>6506.260521</td>\n",
              "      <td>3.988002</td>\n",
              "      <td>25939.588076</td>\n",
              "    </tr>\n",
              "    <tr>\n",
              "      <th>2018-11-08 00:00:00+00:00</th>\n",
              "      <td>6451.058778</td>\n",
              "      <td>6451.349576</td>\n",
              "      <td>6450.686729</td>\n",
              "      <td>6450.996382</td>\n",
              "      <td>3.617201</td>\n",
              "      <td>23308.976039</td>\n",
              "    </tr>\n",
              "    <tr>\n",
              "      <th>2018-11-09 00:00:00+00:00</th>\n",
              "      <td>6366.825292</td>\n",
              "      <td>6367.088458</td>\n",
              "      <td>6366.508576</td>\n",
              "      <td>6366.783681</td>\n",
              "      <td>3.131194</td>\n",
              "      <td>19912.815846</td>\n",
              "    </tr>\n",
              "    <tr>\n",
              "      <th>2018-11-10 00:00:00+00:00</th>\n",
              "      <td>6355.673826</td>\n",
              "      <td>6355.799250</td>\n",
              "      <td>6355.534903</td>\n",
              "      <td>6355.680160</td>\n",
              "      <td>1.629005</td>\n",
              "      <td>10353.941713</td>\n",
              "    </tr>\n",
              "    <tr>\n",
              "      <th>2018-11-11 00:00:00+00:00</th>\n",
              "      <td>6347.420000</td>\n",
              "      <td>6347.420000</td>\n",
              "      <td>6347.410000</td>\n",
              "      <td>6347.420000</td>\n",
              "      <td>0.489324</td>\n",
              "      <td>3105.944897</td>\n",
              "    </tr>\n",
              "  </tbody>\n",
              "</table>\n",
              "<p>1442 rows × 6 columns</p>\n",
              "</div>\n",
              "      <button class=\"colab-df-convert\" onclick=\"convertToInteractive('df-3cdc38f0-2ded-463c-a25a-5ade667e303a')\"\n",
              "              title=\"Convert this dataframe to an interactive table.\"\n",
              "              style=\"display:none;\">\n",
              "        \n",
              "  <svg xmlns=\"http://www.w3.org/2000/svg\" height=\"24px\"viewBox=\"0 0 24 24\"\n",
              "       width=\"24px\">\n",
              "    <path d=\"M0 0h24v24H0V0z\" fill=\"none\"/>\n",
              "    <path d=\"M18.56 5.44l.94 2.06.94-2.06 2.06-.94-2.06-.94-.94-2.06-.94 2.06-2.06.94zm-11 1L8.5 8.5l.94-2.06 2.06-.94-2.06-.94L8.5 2.5l-.94 2.06-2.06.94zm10 10l.94 2.06.94-2.06 2.06-.94-2.06-.94-.94-2.06-.94 2.06-2.06.94z\"/><path d=\"M17.41 7.96l-1.37-1.37c-.4-.4-.92-.59-1.43-.59-.52 0-1.04.2-1.43.59L10.3 9.45l-7.72 7.72c-.78.78-.78 2.05 0 2.83L4 21.41c.39.39.9.59 1.41.59.51 0 1.02-.2 1.41-.59l7.78-7.78 2.81-2.81c.8-.78.8-2.07 0-2.86zM5.41 20L4 18.59l7.72-7.72 1.47 1.35L5.41 20z\"/>\n",
              "  </svg>\n",
              "      </button>\n",
              "      \n",
              "  <style>\n",
              "    .colab-df-container {\n",
              "      display:flex;\n",
              "      flex-wrap:wrap;\n",
              "      gap: 12px;\n",
              "    }\n",
              "\n",
              "    .colab-df-convert {\n",
              "      background-color: #E8F0FE;\n",
              "      border: none;\n",
              "      border-radius: 50%;\n",
              "      cursor: pointer;\n",
              "      display: none;\n",
              "      fill: #1967D2;\n",
              "      height: 32px;\n",
              "      padding: 0 0 0 0;\n",
              "      width: 32px;\n",
              "    }\n",
              "\n",
              "    .colab-df-convert:hover {\n",
              "      background-color: #E2EBFA;\n",
              "      box-shadow: 0px 1px 2px rgba(60, 64, 67, 0.3), 0px 1px 3px 1px rgba(60, 64, 67, 0.15);\n",
              "      fill: #174EA6;\n",
              "    }\n",
              "\n",
              "    [theme=dark] .colab-df-convert {\n",
              "      background-color: #3B4455;\n",
              "      fill: #D2E3FC;\n",
              "    }\n",
              "\n",
              "    [theme=dark] .colab-df-convert:hover {\n",
              "      background-color: #434B5C;\n",
              "      box-shadow: 0px 1px 3px 1px rgba(0, 0, 0, 0.15);\n",
              "      filter: drop-shadow(0px 1px 2px rgba(0, 0, 0, 0.3));\n",
              "      fill: #FFFFFF;\n",
              "    }\n",
              "  </style>\n",
              "\n",
              "      <script>\n",
              "        const buttonEl =\n",
              "          document.querySelector('#df-3cdc38f0-2ded-463c-a25a-5ade667e303a button.colab-df-convert');\n",
              "        buttonEl.style.display =\n",
              "          google.colab.kernel.accessAllowed ? 'block' : 'none';\n",
              "\n",
              "        async function convertToInteractive(key) {\n",
              "          const element = document.querySelector('#df-3cdc38f0-2ded-463c-a25a-5ade667e303a');\n",
              "          const dataTable =\n",
              "            await google.colab.kernel.invokeFunction('convertToInteractive',\n",
              "                                                     [key], {});\n",
              "          if (!dataTable) return;\n",
              "\n",
              "          const docLinkHtml = 'Like what you see? Visit the ' +\n",
              "            '<a target=\"_blank\" href=https://colab.research.google.com/notebooks/data_table.ipynb>data table notebook</a>'\n",
              "            + ' to learn more about interactive tables.';\n",
              "          element.innerHTML = '';\n",
              "          dataTable['output_type'] = 'display_data';\n",
              "          await google.colab.output.renderOutput(dataTable, element);\n",
              "          const docLink = document.createElement('div');\n",
              "          docLink.innerHTML = docLinkHtml;\n",
              "          element.appendChild(docLink);\n",
              "        }\n",
              "      </script>\n",
              "    </div>\n",
              "  </div>\n",
              "  "
            ]
          },
          "metadata": {},
          "execution_count": 83
        }
      ],
      "source": [
        "X"
      ]
    },
    {
      "cell_type": "markdown",
      "metadata": {
        "id": "kORuh_Pjnlaa"
      },
      "source": [
        "y is the target variable and it is only the weighted_price."
      ]
    },
    {
      "cell_type": "code",
      "execution_count": null,
      "metadata": {
        "id": "87vc6s82nZGc",
        "colab": {
          "base_uri": "https://localhost:8080/",
          "height": 455
        },
        "outputId": "34dbc830-efbc-44bc-b202-a422409c3e24"
      },
      "outputs": [
        {
          "output_type": "execute_result",
          "data": {
            "text/plain": [
              "                           Weighted_Price\n",
              "Timestamp                                \n",
              "2014-12-01 00:00:00+00:00      335.000000\n",
              "2014-12-02 00:00:00+00:00      377.854911\n",
              "2014-12-03 00:00:00+00:00      377.818333\n",
              "2014-12-04 00:00:00+00:00      377.100000\n",
              "2014-12-05 00:00:00+00:00      377.550000\n",
              "...                                   ...\n",
              "2018-11-07 00:00:00+00:00     6506.226359\n",
              "2018-11-08 00:00:00+00:00     6451.014558\n",
              "2018-11-09 00:00:00+00:00     6366.780335\n",
              "2018-11-10 00:00:00+00:00     6355.675229\n",
              "2018-11-11 00:00:00+00:00     6347.417439\n",
              "\n",
              "[1442 rows x 1 columns]"
            ],
            "text/html": [
              "\n",
              "  <div id=\"df-4a982431-6c0d-4063-a65e-4da9096a7dc8\">\n",
              "    <div class=\"colab-df-container\">\n",
              "      <div>\n",
              "<style scoped>\n",
              "    .dataframe tbody tr th:only-of-type {\n",
              "        vertical-align: middle;\n",
              "    }\n",
              "\n",
              "    .dataframe tbody tr th {\n",
              "        vertical-align: top;\n",
              "    }\n",
              "\n",
              "    .dataframe thead th {\n",
              "        text-align: right;\n",
              "    }\n",
              "</style>\n",
              "<table border=\"1\" class=\"dataframe\">\n",
              "  <thead>\n",
              "    <tr style=\"text-align: right;\">\n",
              "      <th></th>\n",
              "      <th>Weighted_Price</th>\n",
              "    </tr>\n",
              "    <tr>\n",
              "      <th>Timestamp</th>\n",
              "      <th></th>\n",
              "    </tr>\n",
              "  </thead>\n",
              "  <tbody>\n",
              "    <tr>\n",
              "      <th>2014-12-01 00:00:00+00:00</th>\n",
              "      <td>335.000000</td>\n",
              "    </tr>\n",
              "    <tr>\n",
              "      <th>2014-12-02 00:00:00+00:00</th>\n",
              "      <td>377.854911</td>\n",
              "    </tr>\n",
              "    <tr>\n",
              "      <th>2014-12-03 00:00:00+00:00</th>\n",
              "      <td>377.818333</td>\n",
              "    </tr>\n",
              "    <tr>\n",
              "      <th>2014-12-04 00:00:00+00:00</th>\n",
              "      <td>377.100000</td>\n",
              "    </tr>\n",
              "    <tr>\n",
              "      <th>2014-12-05 00:00:00+00:00</th>\n",
              "      <td>377.550000</td>\n",
              "    </tr>\n",
              "    <tr>\n",
              "      <th>...</th>\n",
              "      <td>...</td>\n",
              "    </tr>\n",
              "    <tr>\n",
              "      <th>2018-11-07 00:00:00+00:00</th>\n",
              "      <td>6506.226359</td>\n",
              "    </tr>\n",
              "    <tr>\n",
              "      <th>2018-11-08 00:00:00+00:00</th>\n",
              "      <td>6451.014558</td>\n",
              "    </tr>\n",
              "    <tr>\n",
              "      <th>2018-11-09 00:00:00+00:00</th>\n",
              "      <td>6366.780335</td>\n",
              "    </tr>\n",
              "    <tr>\n",
              "      <th>2018-11-10 00:00:00+00:00</th>\n",
              "      <td>6355.675229</td>\n",
              "    </tr>\n",
              "    <tr>\n",
              "      <th>2018-11-11 00:00:00+00:00</th>\n",
              "      <td>6347.417439</td>\n",
              "    </tr>\n",
              "  </tbody>\n",
              "</table>\n",
              "<p>1442 rows × 1 columns</p>\n",
              "</div>\n",
              "      <button class=\"colab-df-convert\" onclick=\"convertToInteractive('df-4a982431-6c0d-4063-a65e-4da9096a7dc8')\"\n",
              "              title=\"Convert this dataframe to an interactive table.\"\n",
              "              style=\"display:none;\">\n",
              "        \n",
              "  <svg xmlns=\"http://www.w3.org/2000/svg\" height=\"24px\"viewBox=\"0 0 24 24\"\n",
              "       width=\"24px\">\n",
              "    <path d=\"M0 0h24v24H0V0z\" fill=\"none\"/>\n",
              "    <path d=\"M18.56 5.44l.94 2.06.94-2.06 2.06-.94-2.06-.94-.94-2.06-.94 2.06-2.06.94zm-11 1L8.5 8.5l.94-2.06 2.06-.94-2.06-.94L8.5 2.5l-.94 2.06-2.06.94zm10 10l.94 2.06.94-2.06 2.06-.94-2.06-.94-.94-2.06-.94 2.06-2.06.94z\"/><path d=\"M17.41 7.96l-1.37-1.37c-.4-.4-.92-.59-1.43-.59-.52 0-1.04.2-1.43.59L10.3 9.45l-7.72 7.72c-.78.78-.78 2.05 0 2.83L4 21.41c.39.39.9.59 1.41.59.51 0 1.02-.2 1.41-.59l7.78-7.78 2.81-2.81c.8-.78.8-2.07 0-2.86zM5.41 20L4 18.59l7.72-7.72 1.47 1.35L5.41 20z\"/>\n",
              "  </svg>\n",
              "      </button>\n",
              "      \n",
              "  <style>\n",
              "    .colab-df-container {\n",
              "      display:flex;\n",
              "      flex-wrap:wrap;\n",
              "      gap: 12px;\n",
              "    }\n",
              "\n",
              "    .colab-df-convert {\n",
              "      background-color: #E8F0FE;\n",
              "      border: none;\n",
              "      border-radius: 50%;\n",
              "      cursor: pointer;\n",
              "      display: none;\n",
              "      fill: #1967D2;\n",
              "      height: 32px;\n",
              "      padding: 0 0 0 0;\n",
              "      width: 32px;\n",
              "    }\n",
              "\n",
              "    .colab-df-convert:hover {\n",
              "      background-color: #E2EBFA;\n",
              "      box-shadow: 0px 1px 2px rgba(60, 64, 67, 0.3), 0px 1px 3px 1px rgba(60, 64, 67, 0.15);\n",
              "      fill: #174EA6;\n",
              "    }\n",
              "\n",
              "    [theme=dark] .colab-df-convert {\n",
              "      background-color: #3B4455;\n",
              "      fill: #D2E3FC;\n",
              "    }\n",
              "\n",
              "    [theme=dark] .colab-df-convert:hover {\n",
              "      background-color: #434B5C;\n",
              "      box-shadow: 0px 1px 3px 1px rgba(0, 0, 0, 0.15);\n",
              "      filter: drop-shadow(0px 1px 2px rgba(0, 0, 0, 0.3));\n",
              "      fill: #FFFFFF;\n",
              "    }\n",
              "  </style>\n",
              "\n",
              "      <script>\n",
              "        const buttonEl =\n",
              "          document.querySelector('#df-4a982431-6c0d-4063-a65e-4da9096a7dc8 button.colab-df-convert');\n",
              "        buttonEl.style.display =\n",
              "          google.colab.kernel.accessAllowed ? 'block' : 'none';\n",
              "\n",
              "        async function convertToInteractive(key) {\n",
              "          const element = document.querySelector('#df-4a982431-6c0d-4063-a65e-4da9096a7dc8');\n",
              "          const dataTable =\n",
              "            await google.colab.kernel.invokeFunction('convertToInteractive',\n",
              "                                                     [key], {});\n",
              "          if (!dataTable) return;\n",
              "\n",
              "          const docLinkHtml = 'Like what you see? Visit the ' +\n",
              "            '<a target=\"_blank\" href=https://colab.research.google.com/notebooks/data_table.ipynb>data table notebook</a>'\n",
              "            + ' to learn more about interactive tables.';\n",
              "          element.innerHTML = '';\n",
              "          dataTable['output_type'] = 'display_data';\n",
              "          await google.colab.output.renderOutput(dataTable, element);\n",
              "          const docLink = document.createElement('div');\n",
              "          docLink.innerHTML = docLinkHtml;\n",
              "          element.appendChild(docLink);\n",
              "        }\n",
              "      </script>\n",
              "    </div>\n",
              "  </div>\n",
              "  "
            ]
          },
          "metadata": {},
          "execution_count": 84
        }
      ],
      "source": [
        "y"
      ]
    },
    {
      "cell_type": "markdown",
      "metadata": {
        "id": "bYi7SZM_oJzm"
      },
      "source": [
        "We will divide this dataset into two parts, training and testing dataset, which has to be sequentially arranged, and can not be shuffled."
      ]
    },
    {
      "cell_type": "code",
      "execution_count": null,
      "metadata": {
        "id": "adhFsuM8Za_P"
      },
      "outputs": [],
      "source": [
        "train_size=int(len(bitstamp)*0.8)\n",
        "test_size = len(bitstamp) - train_size\n",
        "\n",
        "train_X, train_y = X[:train_size].dropna(), y[:train_size].dropna()\n",
        "test_X, test_y = X[train_size:].dropna(), y[train_size:].dropna()"
      ]
    },
    {
      "cell_type": "code",
      "execution_count": null,
      "metadata": {
        "id": "Q3kiwLGilZRd",
        "colab": {
          "base_uri": "https://localhost:8080/"
        },
        "outputId": "807dde64-e7b9-4501-aa07-64e74cf2320e"
      },
      "outputs": [
        {
          "output_type": "execute_result",
          "data": {
            "text/plain": [
              "((1153, 6), (1153, 1))"
            ]
          },
          "metadata": {},
          "execution_count": 86
        }
      ],
      "source": [
        "train_X.shape, train_y.shape"
      ]
    },
    {
      "cell_type": "code",
      "execution_count": null,
      "metadata": {
        "id": "bxK8GSpJ4HLZ",
        "colab": {
          "base_uri": "https://localhost:8080/"
        },
        "outputId": "4f4420a8-e9ba-4096-f538-7dd23af1c5d5"
      },
      "outputs": [
        {
          "output_type": "execute_result",
          "data": {
            "text/plain": [
              "(289, 1)"
            ]
          },
          "metadata": {},
          "execution_count": 87
        }
      ],
      "source": [
        "test_y.shape"
      ]
    },
    {
      "cell_type": "markdown",
      "metadata": {
        "id": "z4WYMtpwooKW"
      },
      "source": [
        "Let's visualize the data\n",
        "\n",
        "In time series analysis, we don't do the analysis the way we do to other cases. In TSA, there are several parts that we have to concern of. First is trend, that depicts how the plot can go upward and downward, seasonal means there is some reccurence of events maybe yearly, monthly, daily, or so on. We will look closer to that in the graph below:"
      ]
    },
    {
      "cell_type": "code",
      "execution_count": null,
      "metadata": {
        "id": "f0ndyr-RvWr3",
        "colab": {
          "base_uri": "https://localhost:8080/",
          "height": 352
        },
        "outputId": "bf6511d5-beb7-47d1-9786-1be8cd396ad2"
      },
      "outputs": [
        {
          "output_type": "stream",
          "name": "stderr",
          "text": [
            "/usr/local/lib/python3.7/dist-packages/ipykernel_launcher.py:2: FutureWarning: the 'freq'' keyword is deprecated, use 'period' instead\n",
            "  \n"
          ]
        },
        {
          "output_type": "display_data",
          "data": {
            "text/plain": [
              "<Figure size 432x288 with 4 Axes>"
            ],
            "image/png": "[encoded data removed]"
          },
          "metadata": {}
        }
      ],
      "source": [
        "import statsmodels.api as sm\n",
        "seas_d=sm.tsa.seasonal_decompose(y['Weighted_Price'],model='add', freq= 365);\n",
        "fig=seas_d.plot()\n",
        "fig.set_figheight(4)\n",
        "plt.show()"
      ]
    },
    {
      "cell_type": "markdown",
      "metadata": {
        "id": "GrvKRR1Bp49X"
      },
      "source": [
        "It can be seen that the trend is positive meaning between 2017 until 2018 the trend goes upward or increases over time, although the preceding year it does not have the same increment or stagnant.\n",
        "\n",
        "The seasonality tells that the graph is repeated yearly , in the early 2015 there is a spike that will be occured in the beginning of 2016, 2017, and 2018"
      ]
    },
    {
      "cell_type": "markdown",
      "metadata": {
        "id": "zn7rwCmGqxia"
      },
      "source": [
        "**Check for stationarity **\n",
        "\n",
        "Stationarity is needed if we go with the TSA using ARIMA model. Stationarity assumption has to be hold true, since ARIMA works that way. There are many ways to prove the stationarity, one of those is using the ADF or Augmented Dickey Fuller Test, some may prefer using rolling window and moving average to check whether the statistical properties do not change over time."
      ]
    },
    {
      "cell_type": "code",
      "execution_count": null,
      "metadata": {
        "id": "nOCZxJBFyqFO"
      },
      "outputs": [],
      "source": [
        "from statsmodels.tsa.stattools import adfuller\n",
        "def test_adf(series, title=''):\n",
        "    dfout={}\n",
        "    dftest=sm.tsa.adfuller(series.dropna(), autolag='AIC', regression='ct')\n",
        "    for key,val in dftest[4].items():\n",
        "        dfout[f'critical value ({key})']=val\n",
        "    if dftest[1]<=0.05:\n",
        "        print(\"Strong evidence against Null Hypothesis\")\n",
        "        print(\"Reject Null Hypothesis - Data is Stationary\")\n",
        "        print(\"Data is Stationary\", title)\n",
        "    else:\n",
        "        print(\"Strong evidence for  Null Hypothesis\")\n",
        "        print(\"Accept Null Hypothesis - Data is not Stationary\")\n",
        "        print(\"Data is NOT Stationary for\", title)"
      ]
    },
    {
      "cell_type": "code",
      "execution_count": null,
      "metadata": {
        "id": "NbMV9RN5y4IY",
        "colab": {
          "base_uri": "https://localhost:8080/"
        },
        "outputId": "fc44a625-f446-473c-e334-74a5e8e87cee"
      },
      "outputs": [
        {
          "output_type": "stream",
          "name": "stdout",
          "text": [
            "Strong evidence for  Null Hypothesis\n",
            "Accept Null Hypothesis - Data is not Stationary\n",
            "Data is NOT Stationary for Stock Price\n"
          ]
        }
      ],
      "source": [
        "# y_test=y[:train_size].dropna()\n",
        "test_adf(train_y, 'Stock Price')"
      ]
    },
    {
      "cell_type": "markdown",
      "metadata": {
        "id": "mNLQGjfqrnHo"
      },
      "source": [
        "Our test using ADF test fails to prove that our target variableis stationary. It is understandable since our model goes up in some time-steps, meaning that the statistical properties change over time. If it is the case then we could go for the alternative way which is we can difference it and re-examine it using ADF test"
      ]
    },
    {
      "cell_type": "code",
      "execution_count": null,
      "metadata": {
        "id": "_FWcVKOvsIp0",
        "colab": {
          "base_uri": "https://localhost:8080/"
        },
        "outputId": "f3cc5ecb-b880-466f-870f-de60dbaf4ec3"
      },
      "outputs": [
        {
          "output_type": "stream",
          "name": "stdout",
          "text": [
            "Strong evidence against Null Hypothesis\n",
            "Reject Null Hypothesis - Data is Stationary\n",
            "Data is Stationary Stock Price\n"
          ]
        }
      ],
      "source": [
        "test_adf(train_y.diff() ,'Stock Price')"
      ]
    },
    {
      "cell_type": "markdown",
      "metadata": {
        "id": "1KrcVEnrsPmJ"
      },
      "source": [
        "Our test succeeds to reject the null hypothesis, it can be assumed that our target variable is stationary using the first difference. It can be a hint later, that our model's parameter of difference is order 1"
      ]
    },
    {
      "cell_type": "markdown",
      "metadata": {
        "id": "A8Y_rPxHs2dz"
      },
      "source": [
        "Next on, we should use ACF and PACF plot to understand better the our other model's parameter."
      ]
    },
    {
      "cell_type": "code",
      "execution_count": null,
      "metadata": {
        "id": "9HC3A6OvrS5D",
        "colab": {
          "base_uri": "https://localhost:8080/",
          "height": 331
        },
        "outputId": "df404ad0-5403-4beb-ac55-1ef736d12697"
      },
      "outputs": [
        {
          "output_type": "display_data",
          "data": {
            "text/plain": [
              "<Figure size 720x360 with 2 Axes>"
            ],
            "image/png": "[encoded data removed]"
          },
          "metadata": {}
        }
      ],
      "source": [
        "fig,ax= plt.subplots(2,1, figsize=(10,5))\n",
        "fig=sm.tsa.graphics.plot_acf(test_y, lags=50, ax=ax[0])\n",
        "fig=sm.tsa.graphics.plot_pacf(test_y, lags=50, ax=ax[1])\n",
        "plt.show()"
      ]
    },
    {
      "cell_type": "markdown",
      "metadata": {
        "id": "IovQqe7AtChF"
      },
      "source": [
        "Our plots in ACF and PACF plots have hint that our model has PACF lags in 2nd lags, it can be concluded that our parameter in auto regressive is 2. "
      ]
    },
    {
      "cell_type": "markdown",
      "metadata": {
        "id": "WCJFcE3rtw6p"
      },
      "source": [
        "**SARIMAX Modelling**\n",
        "\n",
        "SARIMAX will take into account the seasonality, auto regressive, moving average terms, and the exogenous factors, to predict the target variables.\n",
        "As we know that our parameter of p is 2 then we set it to 2. our d is one since it can reach the stationarity if we take difference by 1."
      ]
    },
    {
      "cell_type": "code",
      "execution_count": null,
      "metadata": {
        "id": "oL7ZUlDM1I-4",
        "colab": {
          "base_uri": "https://localhost:8080/"
        },
        "outputId": "4b2ca9e5-533f-470d-b5e9-c304d7e2de43"
      },
      "outputs": [
        {
          "output_type": "stream",
          "name": "stderr",
          "text": [
            "/usr/local/lib/python3.7/dist-packages/statsmodels/base/model.py:568: ConvergenceWarning: Maximum Likelihood optimization failed to converge. Check mle_retvals\n",
            "  ConvergenceWarning)\n"
          ]
        }
      ],
      "source": [
        "from statsmodels.tsa.statespace.sarimax import SARIMAX\n",
        "model= SARIMAX(train_y, \n",
        "exog=train_X,\n",
        " order=(2,1,0),\n",
        " seasonal = True,\n",
        " enforce_invertibility=False, enforce_stationarity=False)\n",
        "results = model.fit()\n",
        "predictions= results.predict(start =train_y.shape[0], end=train_y.shape[0]+1+test_y.shape[0]-2, exog = test_X)"
      ]
    },
    {
      "cell_type": "code",
      "execution_count": null,
      "metadata": {
        "id": "D8yZVxEah9r8"
      },
      "outputs": [],
      "source": [
        "predictions= pd.DataFrame(predictions)"
      ]
    },
    {
      "cell_type": "code",
      "execution_count": null,
      "metadata": {
        "id": "9tDb5Rb85uR2",
        "colab": {
          "base_uri": "https://localhost:8080/",
          "height": 424
        },
        "outputId": "bebfa008-4682-4c46-d40f-21c5ee39a5e4"
      },
      "outputs": [
        {
          "output_type": "execute_result",
          "data": {
            "text/plain": [
              "                           predicted_mean\n",
              "2018-01-27 00:00:00+00:00    11177.144675\n",
              "2018-01-28 00:00:00+00:00    11426.223388\n",
              "2018-01-29 00:00:00+00:00    11137.289871\n",
              "2018-01-30 00:00:00+00:00    10620.479517\n",
              "2018-01-31 00:00:00+00:00     9978.638994\n",
              "...                                   ...\n",
              "2018-11-07 00:00:00+00:00     6506.061884\n",
              "2018-11-08 00:00:00+00:00     6450.844766\n",
              "2018-11-09 00:00:00+00:00     6366.621329\n",
              "2018-11-10 00:00:00+00:00     6355.491071\n",
              "2018-11-11 00:00:00+00:00     6347.237403\n",
              "\n",
              "[289 rows x 1 columns]"
            ],
            "text/html": [
              "\n",
              "  <div id=\"df-23175261-b168-4cd4-b0ab-81d1ab80f746\">\n",
              "    <div class=\"colab-df-container\">\n",
              "      <div>\n",
              "<style scoped>\n",
              "    .dataframe tbody tr th:only-of-type {\n",
              "        vertical-align: middle;\n",
              "    }\n",
              "\n",
              "    .dataframe tbody tr th {\n",
              "        vertical-align: top;\n",
              "    }\n",
              "\n",
              "    .dataframe thead th {\n",
              "        text-align: right;\n",
              "    }\n",
              "</style>\n",
              "<table border=\"1\" class=\"dataframe\">\n",
              "  <thead>\n",
              "    <tr style=\"text-align: right;\">\n",
              "      <th></th>\n",
              "      <th>predicted_mean</th>\n",
              "    </tr>\n",
              "  </thead>\n",
              "  <tbody>\n",
              "    <tr>\n",
              "      <th>2018-01-27 00:00:00+00:00</th>\n",
              "      <td>11177.144675</td>\n",
              "    </tr>\n",
              "    <tr>\n",
              "      <th>2018-01-28 00:00:00+00:00</th>\n",
              "      <td>11426.223388</td>\n",
              "    </tr>\n",
              "    <tr>\n",
              "      <th>2018-01-29 00:00:00+00:00</th>\n",
              "      <td>11137.289871</td>\n",
              "    </tr>\n",
              "    <tr>\n",
              "      <th>2018-01-30 00:00:00+00:00</th>\n",
              "      <td>10620.479517</td>\n",
              "    </tr>\n",
              "    <tr>\n",
              "      <th>2018-01-31 00:00:00+00:00</th>\n",
              "      <td>9978.638994</td>\n",
              "    </tr>\n",
              "    <tr>\n",
              "      <th>...</th>\n",
              "      <td>...</td>\n",
              "    </tr>\n",
              "    <tr>\n",
              "      <th>2018-11-07 00:00:00+00:00</th>\n",
              "      <td>6506.061884</td>\n",
              "    </tr>\n",
              "    <tr>\n",
              "      <th>2018-11-08 00:00:00+00:00</th>\n",
              "      <td>6450.844766</td>\n",
              "    </tr>\n",
              "    <tr>\n",
              "      <th>2018-11-09 00:00:00+00:00</th>\n",
              "      <td>6366.621329</td>\n",
              "    </tr>\n",
              "    <tr>\n",
              "      <th>2018-11-10 00:00:00+00:00</th>\n",
              "      <td>6355.491071</td>\n",
              "    </tr>\n",
              "    <tr>\n",
              "      <th>2018-11-11 00:00:00+00:00</th>\n",
              "      <td>6347.237403</td>\n",
              "    </tr>\n",
              "  </tbody>\n",
              "</table>\n",
              "<p>289 rows × 1 columns</p>\n",
              "</div>\n",
              "      <button class=\"colab-df-convert\" onclick=\"convertToInteractive('df-23175261-b168-4cd4-b0ab-81d1ab80f746')\"\n",
              "              title=\"Convert this dataframe to an interactive table.\"\n",
              "              style=\"display:none;\">\n",
              "        \n",
              "  <svg xmlns=\"http://www.w3.org/2000/svg\" height=\"24px\"viewBox=\"0 0 24 24\"\n",
              "       width=\"24px\">\n",
              "    <path d=\"M0 0h24v24H0V0z\" fill=\"none\"/>\n",
              "    <path d=\"M18.56 5.44l.94 2.06.94-2.06 2.06-.94-2.06-.94-.94-2.06-.94 2.06-2.06.94zm-11 1L8.5 8.5l.94-2.06 2.06-.94-2.06-.94L8.5 2.5l-.94 2.06-2.06.94zm10 10l.94 2.06.94-2.06 2.06-.94-2.06-.94-.94-2.06-.94 2.06-2.06.94z\"/><path d=\"M17.41 7.96l-1.37-1.37c-.4-.4-.92-.59-1.43-.59-.52 0-1.04.2-1.43.59L10.3 9.45l-7.72 7.72c-.78.78-.78 2.05 0 2.83L4 21.41c.39.39.9.59 1.41.59.51 0 1.02-.2 1.41-.59l7.78-7.78 2.81-2.81c.8-.78.8-2.07 0-2.86zM5.41 20L4 18.59l7.72-7.72 1.47 1.35L5.41 20z\"/>\n",
              "  </svg>\n",
              "      </button>\n",
              "      \n",
              "  <style>\n",
              "    .colab-df-container {\n",
              "      display:flex;\n",
              "      flex-wrap:wrap;\n",
              "      gap: 12px;\n",
              "    }\n",
              "\n",
              "    .colab-df-convert {\n",
              "      background-color: #E8F0FE;\n",
              "      border: none;\n",
              "      border-radius: 50%;\n",
              "      cursor: pointer;\n",
              "      display: none;\n",
              "      fill: #1967D2;\n",
              "      height: 32px;\n",
              "      padding: 0 0 0 0;\n",
              "      width: 32px;\n",
              "    }\n",
              "\n",
              "    .colab-df-convert:hover {\n",
              "      background-color: #E2EBFA;\n",
              "      box-shadow: 0px 1px 2px rgba(60, 64, 67, 0.3), 0px 1px 3px 1px rgba(60, 64, 67, 0.15);\n",
              "      fill: #174EA6;\n",
              "    }\n",
              "\n",
              "    [theme=dark] .colab-df-convert {\n",
              "      background-color: #3B4455;\n",
              "      fill: #D2E3FC;\n",
              "    }\n",
              "\n",
              "    [theme=dark] .colab-df-convert:hover {\n",
              "      background-color: #434B5C;\n",
              "      box-shadow: 0px 1px 3px 1px rgba(0, 0, 0, 0.15);\n",
              "      filter: drop-shadow(0px 1px 2px rgba(0, 0, 0, 0.3));\n",
              "      fill: #FFFFFF;\n",
              "    }\n",
              "  </style>\n",
              "\n",
              "      <script>\n",
              "        const buttonEl =\n",
              "          document.querySelector('#df-23175261-b168-4cd4-b0ab-81d1ab80f746 button.colab-df-convert');\n",
              "        buttonEl.style.display =\n",
              "          google.colab.kernel.accessAllowed ? 'block' : 'none';\n",
              "\n",
              "        async function convertToInteractive(key) {\n",
              "          const element = document.querySelector('#df-23175261-b168-4cd4-b0ab-81d1ab80f746');\n",
              "          const dataTable =\n",
              "            await google.colab.kernel.invokeFunction('convertToInteractive',\n",
              "                                                     [key], {});\n",
              "          if (!dataTable) return;\n",
              "\n",
              "          const docLinkHtml = 'Like what you see? Visit the ' +\n",
              "            '<a target=\"_blank\" href=https://colab.research.google.com/notebooks/data_table.ipynb>data table notebook</a>'\n",
              "            + ' to learn more about interactive tables.';\n",
              "          element.innerHTML = '';\n",
              "          dataTable['output_type'] = 'display_data';\n",
              "          await google.colab.output.renderOutput(dataTable, element);\n",
              "          const docLink = document.createElement('div');\n",
              "          docLink.innerHTML = docLinkHtml;\n",
              "          element.appendChild(docLink);\n",
              "        }\n",
              "      </script>\n",
              "    </div>\n",
              "  </div>\n",
              "  "
            ]
          },
          "metadata": {},
          "execution_count": 95
        }
      ],
      "source": [
        "predictions"
      ]
    },
    {
      "cell_type": "code",
      "execution_count": null,
      "metadata": {
        "id": "xyx6m50gLI10",
        "colab": {
          "base_uri": "https://localhost:8080/",
          "height": 536
        },
        "outputId": "fef83a20-de31-44e6-f2a7-8c42ce854d85"
      },
      "outputs": [
        {
          "output_type": "execute_result",
          "data": {
            "text/plain": [
              "<matplotlib.axes._subplots.AxesSubplot at 0x7fa09d85f890>"
            ]
          },
          "metadata": {},
          "execution_count": 96
        },
        {
          "output_type": "display_data",
          "data": {
            "text/plain": [
              "<Figure size 1080x576 with 0 Axes>"
            ]
          },
          "metadata": {}
        },
        {
          "output_type": "display_data",
          "data": {
            "text/plain": [
              "<Figure size 1440x720 with 1 Axes>"
            ],
            "image/png": "[encoded data removed]"
          },
          "metadata": {}
        }
      ],
      "source": [
        "plt.figure(figsize = (15,8))\n",
        "predictions.plot(legend = 'Prediction',figsize = (20,10))\n",
        "test_y.Weighted_Price.plot(legend = 'Y')"
      ]
    },
    {
      "cell_type": "markdown",
      "metadata": {
        "id": "RYmDNyw8vu-p"
      },
      "source": [
        "From the plot above, we can conclude that our model can predict pretty well thanks to SARIMAX model that takes into account the exogenous features. It is almost the same plot between the two"
      ]
    },
    {
      "cell_type": "code",
      "execution_count": null,
      "metadata": {
        "id": "_OdWK4ovuwTw",
        "colab": {
          "base_uri": "https://localhost:8080/"
        },
        "outputId": "9cf919af-e505-4f1a-db52-cbe9390eaa6c"
      },
      "outputs": [
        {
          "output_type": "stream",
          "name": "stdout",
          "text": [
            "RMSE of Auto ARIMAX: 0.15306197305670963\n"
          ]
        }
      ],
      "source": [
        "from sklearn.metrics import mean_squared_error, mean_absolute_error\n",
        "\n",
        "print(\"RMSE of Auto ARIMAX:\", np.sqrt(mean_squared_error(predictions.predicted_mean, test_y.Weighted_Price)))"
      ]
    },
    {
      "cell_type": "markdown",
      "metadata": {
        "id": "D25jqWNqwNz8"
      },
      "source": [
        "It has very few RMSE that only 0.15 USD. Our SARIMAX model has been doing pretty good job in predicting the bitcoin prices"
      ]
    },
    {
      "cell_type": "markdown",
      "metadata": {
        "id": "ssAyDi6Cwi_7"
      },
      "source": [
        "Next we move to the Deep Learning approach\n",
        "In this section it is rather different but the overall process is actually the same. \n",
        "We use the tensorflow API to help our machine learns the data using deep learning (LSTM).\n",
        "LSTM is best suited for data which has sequence like timestamp."
      ]
    },
    {
      "cell_type": "code",
      "execution_count": null,
      "metadata": {
        "id": "AaIWGg01THzI"
      },
      "outputs": [],
      "source": [
        "import tensorflow as tf\n",
        "from keras.preprocessing.sequence import TimeseriesGenerator\n",
        "from sklearn.preprocessing import MinMaxScaler\n",
        "n_train_time = train_X.shape[0]\n",
        "# n_train_time = 1000\n",
        "\n",
        "\n",
        "from tensorflow.keras.models import Sequential\n",
        "from tensorflow.keras.layers import Dense\n",
        "from tensorflow.keras.layers import LSTM\n",
        "from tensorflow.keras.layers import Dropout\n",
        "\n",
        "\n",
        "df_daily = bitstamp"
      ]
    },
    {
      "cell_type": "code",
      "execution_count": null,
      "metadata": {
        "id": "N9VCbjE59Pn5",
        "colab": {
          "base_uri": "https://localhost:8080/"
        },
        "outputId": "34a5dab3-c473-4e15-f014-644fcd9d947d"
      },
      "outputs": [
        {
          "output_type": "execute_result",
          "data": {
            "text/plain": [
              "Open                 0\n",
              "High                 0\n",
              "Low                  0\n",
              "Close                0\n",
              "Volume_(BTC)         0\n",
              "Volume_(Currency)    0\n",
              "Weighted_Price       0\n",
              "dtype: int64"
            ]
          },
          "metadata": {},
          "execution_count": 99
        }
      ],
      "source": [
        "df_daily = df_daily.interpolate()\n",
        "df_daily.isnull().sum()"
      ]
    },
    {
      "cell_type": "markdown",
      "metadata": {
        "id": "GDIs_h8NxB1b"
      },
      "source": [
        "In deep learning, we must scale our data in order to let the machine learn. Otherwise, the activation function will stop working and the machine stops learning, and the loss value can not be minimised.\n",
        "\n",
        "After scalling, we should split our data into training and testing dataset as we did previously."
      ]
    },
    {
      "cell_type": "code",
      "execution_count": null,
      "metadata": {
        "id": "u2oC6oOmsg98"
      },
      "outputs": [],
      "source": [
        "scaler = MinMaxScaler(feature_range = (0, 1))\n",
        "df_scaled= scaler.fit_transform(df_daily)\n",
        "train = df_scaled[:n_train_time, :]\n",
        "test = df_scaled[n_train_time:, :]\n",
        "x_train, y_train = train, train[:,-1]\n",
        "x_test, y_test = test, test[:,-1]\n"
      ]
    },
    {
      "cell_type": "markdown",
      "metadata": {
        "id": "tsrc7ejHyY1D"
      },
      "source": [
        "We create the timeseries generator to make our DL algorithms easier to use"
      ]
    },
    {
      "cell_type": "code",
      "execution_count": null,
      "metadata": {
        "id": "jlqwYEf7Tl9b"
      },
      "outputs": [],
      "source": [
        "from keras.preprocessing.sequence import TimeseriesGenerator\n",
        "win_length = 1\n",
        "batch_size = 32\n",
        "num_features = 7\n",
        "train_generator = TimeseriesGenerator(x_train, y_train,length = win_length)\n",
        "test_generator = TimeseriesGenerator(x_test, y_test, length = win_length)\n",
        "early_stopping = tf.keras.callbacks.EarlyStopping(monitor = 'val_loss',\n",
        "                                                  patience =20,\n",
        "                                                mode = 'min')\n"
      ]
    },
    {
      "cell_type": "markdown",
      "metadata": {
        "id": "hWBz2kspyxYl"
      },
      "source": [
        "We create the Deep Learning with LSTM as the base model"
      ]
    },
    {
      "cell_type": "code",
      "execution_count": null,
      "metadata": {
        "id": "0LlIwo1TspL0",
        "colab": {
          "base_uri": "https://localhost:8080/"
        },
        "outputId": "83d8700d-cc51-497f-d375-c0ba5f78246b"
      },
      "outputs": [
        {
          "output_type": "stream",
          "name": "stdout",
          "text": [
            "Model: \"sequential_7\"\n",
            "_________________________________________________________________\n",
            " Layer (type)                Output Shape              Param #   \n",
            "=================================================================\n",
            " lstm_26 (LSTM)              (None, 1, 50)             11600     \n",
            "                                                                 \n",
            " dropout_26 (Dropout)        (None, 1, 50)             0         \n",
            "                                                                 \n",
            " lstm_27 (LSTM)              (None, 1, 50)             20200     \n",
            "                                                                 \n",
            " dropout_27 (Dropout)        (None, 1, 50)             0         \n",
            "                                                                 \n",
            " lstm_28 (LSTM)              (None, 1, 50)             20200     \n",
            "                                                                 \n",
            " dropout_28 (Dropout)        (None, 1, 50)             0         \n",
            "                                                                 \n",
            " lstm_29 (LSTM)              (None, 50)                20200     \n",
            "                                                                 \n",
            " dropout_29 (Dropout)        (None, 50)                0         \n",
            "                                                                 \n",
            " dense_7 (Dense)             (None, 1)                 51        \n",
            "                                                                 \n",
            "=================================================================\n",
            "Total params: 72,251\n",
            "Trainable params: 72,251\n",
            "Non-trainable params: 0\n",
            "_________________________________________________________________\n"
          ]
        }
      ],
      "source": [
        "# Initialising the LSTM\n",
        "regressor = Sequential()\n",
        "\n",
        "# Adding the first LSTM layer and some Dropout regularisation\n",
        "regressor.add(LSTM(units = 50, return_sequences = True, input_shape = (win_length, 7)))\n",
        "regressor.add(Dropout(0.2))\n",
        "\n",
        "# Adding a second LSTM layer and some Dropout regularisation\n",
        "regressor.add(LSTM(units = 50, return_sequences = True))\n",
        "regressor.add(Dropout(0.2))\n",
        "\n",
        "# Adding a third LSTM layer and some Dropout regularisation\n",
        "regressor.add(LSTM(units = 50, return_sequences = True))\n",
        "regressor.add(Dropout(0.2))\n",
        "\n",
        "# Adding a fourth LSTM layer and some Dropout regularisation\n",
        "regressor.add(LSTM(units = 50))\n",
        "regressor.add(Dropout(0.2))\n",
        "\n",
        "# Adding the output layer\n",
        "regressor.add(Dense(units = 1))\n",
        "\n",
        "# Compiling the RNN\n",
        "regressor.compile(optimizer = 'adam', loss = 'mean_squared_error', metrics=['mean_squared_error'])\n",
        "\n",
        "regressor.summary()"
      ]
    },
    {
      "cell_type": "markdown",
      "metadata": {
        "id": "YIX6NryHy3QL"
      },
      "source": [
        "We then fit the model and start training and rescale back to the origin, and have a look at how good our DL algorithm can predict the bitcoin prices"
      ]
    },
    {
      "cell_type": "code",
      "execution_count": null,
      "metadata": {
        "colab": {
          "base_uri": "https://localhost:8080/",
          "height": 1000
        },
        "id": "yg1fEhWqswJP",
        "outputId": "e0fc2fb5-f9f8-48a7-d187-d4e0a2ef3603"
      },
      "outputs": [
        {
          "output_type": "stream",
          "name": "stdout",
          "text": [
            "Epoch 1/100\n",
            "9/9 [==============================] - 7s 185ms/step - loss: 0.0328 - mean_squared_error: 0.0328 - val_loss: 0.1308 - val_mean_squared_error: 0.1308\n",
            "Epoch 2/100\n",
            "9/9 [==============================] - 0s 13ms/step - loss: 0.0308 - mean_squared_error: 0.0308 - val_loss: 0.1197 - val_mean_squared_error: 0.1197\n",
            "Epoch 3/100\n",
            "9/9 [==============================] - 0s 13ms/step - loss: 0.0294 - mean_squared_error: 0.0294 - val_loss: 0.1098 - val_mean_squared_error: 0.1098\n",
            "Epoch 4/100\n",
            "9/9 [==============================] - 0s 14ms/step - loss: 0.0286 - mean_squared_error: 0.0286 - val_loss: 0.1014 - val_mean_squared_error: 0.1014\n",
            "Epoch 5/100\n",
            "9/9 [==============================] - 0s 13ms/step - loss: 0.0281 - mean_squared_error: 0.0281 - val_loss: 0.0944 - val_mean_squared_error: 0.0944\n",
            "Epoch 6/100\n",
            "9/9 [==============================] - 0s 13ms/step - loss: 0.0275 - mean_squared_error: 0.0275 - val_loss: 0.0886 - val_mean_squared_error: 0.0886\n",
            "Epoch 7/100\n",
            "9/9 [==============================] - 0s 14ms/step - loss: 0.0269 - mean_squared_error: 0.0269 - val_loss: 0.0832 - val_mean_squared_error: 0.0832\n",
            "Epoch 8/100\n",
            "9/9 [==============================] - 0s 14ms/step - loss: 0.0256 - mean_squared_error: 0.0256 - val_loss: 0.0771 - val_mean_squared_error: 0.0771\n",
            "Epoch 9/100\n",
            "9/9 [==============================] - 0s 14ms/step - loss: 0.0236 - mean_squared_error: 0.0236 - val_loss: 0.0691 - val_mean_squared_error: 0.0691\n",
            "Epoch 10/100\n",
            "9/9 [==============================] - 0s 14ms/step - loss: 0.0208 - mean_squared_error: 0.0208 - val_loss: 0.0582 - val_mean_squared_error: 0.0582\n",
            "Epoch 11/100\n",
            "9/9 [==============================] - 0s 15ms/step - loss: 0.0167 - mean_squared_error: 0.0167 - val_loss: 0.0435 - val_mean_squared_error: 0.0435\n",
            "Epoch 12/100\n",
            "9/9 [==============================] - 0s 13ms/step - loss: 0.0117 - mean_squared_error: 0.0117 - val_loss: 0.0261 - val_mean_squared_error: 0.0261\n",
            "Epoch 13/100\n",
            "9/9 [==============================] - 0s 13ms/step - loss: 0.0060 - mean_squared_error: 0.0060 - val_loss: 0.0103 - val_mean_squared_error: 0.0103\n",
            "Epoch 14/100\n",
            "9/9 [==============================] - 0s 14ms/step - loss: 0.0037 - mean_squared_error: 0.0037 - val_loss: 0.0036 - val_mean_squared_error: 0.0036\n",
            "Epoch 15/100\n",
            "9/9 [==============================] - 0s 14ms/step - loss: 0.0025 - mean_squared_error: 0.0025 - val_loss: 0.0072 - val_mean_squared_error: 0.0072\n",
            "Epoch 16/100\n",
            "9/9 [==============================] - 0s 14ms/step - loss: 0.0021 - mean_squared_error: 0.0021 - val_loss: 0.0093 - val_mean_squared_error: 0.0093\n",
            "Epoch 17/100\n",
            "9/9 [==============================] - 0s 13ms/step - loss: 0.0021 - mean_squared_error: 0.0021 - val_loss: 0.0059 - val_mean_squared_error: 0.0059\n",
            "Epoch 18/100\n",
            "9/9 [==============================] - 0s 14ms/step - loss: 0.0018 - mean_squared_error: 0.0018 - val_loss: 0.0064 - val_mean_squared_error: 0.0064\n",
            "Epoch 19/100\n",
            "9/9 [==============================] - 0s 14ms/step - loss: 0.0015 - mean_squared_error: 0.0015 - val_loss: 0.0054 - val_mean_squared_error: 0.0054\n",
            "Epoch 20/100\n",
            "9/9 [==============================] - 0s 13ms/step - loss: 0.0015 - mean_squared_error: 0.0015 - val_loss: 0.0040 - val_mean_squared_error: 0.0040\n",
            "Epoch 21/100\n",
            "9/9 [==============================] - 0s 14ms/step - loss: 0.0016 - mean_squared_error: 0.0016 - val_loss: 0.0037 - val_mean_squared_error: 0.0037\n",
            "Epoch 22/100\n",
            "9/9 [==============================] - 0s 14ms/step - loss: 0.0013 - mean_squared_error: 0.0013 - val_loss: 0.0035 - val_mean_squared_error: 0.0035\n",
            "Epoch 23/100\n",
            "9/9 [==============================] - 0s 14ms/step - loss: 0.0013 - mean_squared_error: 0.0013 - val_loss: 0.0023 - val_mean_squared_error: 0.0023\n",
            "Epoch 24/100\n",
            "9/9 [==============================] - 0s 13ms/step - loss: 0.0013 - mean_squared_error: 0.0013 - val_loss: 0.0031 - val_mean_squared_error: 0.0031\n",
            "Epoch 25/100\n",
            "9/9 [==============================] - 0s 15ms/step - loss: 0.0011 - mean_squared_error: 0.0011 - val_loss: 0.0025 - val_mean_squared_error: 0.0025\n",
            "Epoch 26/100\n",
            "9/9 [==============================] - 0s 13ms/step - loss: 0.0012 - mean_squared_error: 0.0012 - val_loss: 0.0024 - val_mean_squared_error: 0.0024\n",
            "Epoch 27/100\n",
            "9/9 [==============================] - 0s 13ms/step - loss: 0.0014 - mean_squared_error: 0.0014 - val_loss: 0.0020 - val_mean_squared_error: 0.0020\n",
            "Epoch 28/100\n",
            "9/9 [==============================] - 0s 14ms/step - loss: 0.0011 - mean_squared_error: 0.0011 - val_loss: 0.0015 - val_mean_squared_error: 0.0015\n",
            "Epoch 29/100\n",
            "9/9 [==============================] - 0s 14ms/step - loss: 0.0012 - mean_squared_error: 0.0012 - val_loss: 6.7292e-04 - val_mean_squared_error: 6.7292e-04\n",
            "Epoch 30/100\n",
            "9/9 [==============================] - 0s 14ms/step - loss: 8.4814e-04 - mean_squared_error: 8.4814e-04 - val_loss: 0.0016 - val_mean_squared_error: 0.0016\n",
            "Epoch 31/100\n",
            "9/9 [==============================] - 0s 13ms/step - loss: 8.4745e-04 - mean_squared_error: 8.4745e-04 - val_loss: 7.3821e-04 - val_mean_squared_error: 7.3821e-04\n",
            "Epoch 32/100\n",
            "9/9 [==============================] - 0s 15ms/step - loss: 0.0012 - mean_squared_error: 0.0012 - val_loss: 4.0620e-04 - val_mean_squared_error: 4.0620e-04\n",
            "Epoch 33/100\n",
            "9/9 [==============================] - 0s 14ms/step - loss: 7.9957e-04 - mean_squared_error: 7.9957e-04 - val_loss: 0.0011 - val_mean_squared_error: 0.0011\n",
            "Epoch 34/100\n",
            "9/9 [==============================] - 0s 13ms/step - loss: 0.0010 - mean_squared_error: 0.0010 - val_loss: 9.6782e-04 - val_mean_squared_error: 9.6782e-04\n",
            "Epoch 35/100\n",
            "9/9 [==============================] - 0s 14ms/step - loss: 0.0010 - mean_squared_error: 0.0010 - val_loss: 3.4541e-04 - val_mean_squared_error: 3.4541e-04\n",
            "Epoch 36/100\n",
            "9/9 [==============================] - 0s 14ms/step - loss: 7.3744e-04 - mean_squared_error: 7.3744e-04 - val_loss: 5.7304e-04 - val_mean_squared_error: 5.7304e-04\n",
            "Epoch 37/100\n",
            "9/9 [==============================] - 0s 13ms/step - loss: 7.8196e-04 - mean_squared_error: 7.8196e-04 - val_loss: 3.3146e-04 - val_mean_squared_error: 3.3146e-04\n",
            "Epoch 38/100\n",
            "9/9 [==============================] - 0s 15ms/step - loss: 7.2816e-04 - mean_squared_error: 7.2816e-04 - val_loss: 3.1473e-04 - val_mean_squared_error: 3.1473e-04\n",
            "Epoch 39/100\n",
            "9/9 [==============================] - 0s 15ms/step - loss: 7.3190e-04 - mean_squared_error: 7.3190e-04 - val_loss: 3.0937e-04 - val_mean_squared_error: 3.0937e-04\n",
            "Epoch 40/100\n",
            "9/9 [==============================] - 0s 14ms/step - loss: 8.9442e-04 - mean_squared_error: 8.9442e-04 - val_loss: 5.6213e-04 - val_mean_squared_error: 5.6213e-04\n",
            "Epoch 41/100\n",
            "9/9 [==============================] - 0s 13ms/step - loss: 7.0387e-04 - mean_squared_error: 7.0387e-04 - val_loss: 3.0756e-04 - val_mean_squared_error: 3.0756e-04\n",
            "Epoch 42/100\n",
            "9/9 [==============================] - 0s 13ms/step - loss: 7.8865e-04 - mean_squared_error: 7.8865e-04 - val_loss: 2.9852e-04 - val_mean_squared_error: 2.9852e-04\n",
            "Epoch 43/100\n",
            "9/9 [==============================] - 0s 14ms/step - loss: 5.8766e-04 - mean_squared_error: 5.8766e-04 - val_loss: 3.1032e-04 - val_mean_squared_error: 3.1032e-04\n",
            "Epoch 44/100\n",
            "9/9 [==============================] - 0s 13ms/step - loss: 7.0404e-04 - mean_squared_error: 7.0404e-04 - val_loss: 2.8748e-04 - val_mean_squared_error: 2.8748e-04\n",
            "Epoch 45/100\n",
            "9/9 [==============================] - 0s 15ms/step - loss: 9.9395e-04 - mean_squared_error: 9.9395e-04 - val_loss: 2.8742e-04 - val_mean_squared_error: 2.8742e-04\n",
            "Epoch 46/100\n",
            "9/9 [==============================] - 0s 14ms/step - loss: 6.2067e-04 - mean_squared_error: 6.2067e-04 - val_loss: 2.9262e-04 - val_mean_squared_error: 2.9262e-04\n",
            "Epoch 47/100\n",
            "9/9 [==============================] - 0s 13ms/step - loss: 7.2861e-04 - mean_squared_error: 7.2861e-04 - val_loss: 2.6556e-04 - val_mean_squared_error: 2.6556e-04\n",
            "Epoch 48/100\n",
            "9/9 [==============================] - 0s 13ms/step - loss: 7.5344e-04 - mean_squared_error: 7.5344e-04 - val_loss: 2.7180e-04 - val_mean_squared_error: 2.7180e-04\n",
            "Epoch 49/100\n",
            "9/9 [==============================] - 0s 13ms/step - loss: 8.5600e-04 - mean_squared_error: 8.5600e-04 - val_loss: 2.5211e-04 - val_mean_squared_error: 2.5211e-04\n",
            "Epoch 50/100\n",
            "9/9 [==============================] - 0s 14ms/step - loss: 6.4049e-04 - mean_squared_error: 6.4049e-04 - val_loss: 2.9756e-04 - val_mean_squared_error: 2.9756e-04\n",
            "Epoch 51/100\n",
            "9/9 [==============================] - 0s 14ms/step - loss: 8.1426e-04 - mean_squared_error: 8.1426e-04 - val_loss: 2.7867e-04 - val_mean_squared_error: 2.7867e-04\n",
            "Epoch 52/100\n",
            "9/9 [==============================] - 0s 13ms/step - loss: 6.3614e-04 - mean_squared_error: 6.3614e-04 - val_loss: 5.2614e-04 - val_mean_squared_error: 5.2614e-04\n",
            "Epoch 53/100\n",
            "9/9 [==============================] - 0s 14ms/step - loss: 6.6579e-04 - mean_squared_error: 6.6579e-04 - val_loss: 2.9342e-04 - val_mean_squared_error: 2.9342e-04\n",
            "Epoch 54/100\n",
            "9/9 [==============================] - 0s 13ms/step - loss: 7.4467e-04 - mean_squared_error: 7.4467e-04 - val_loss: 3.0270e-04 - val_mean_squared_error: 3.0270e-04\n",
            "Epoch 55/100\n",
            "9/9 [==============================] - 0s 14ms/step - loss: 7.0767e-04 - mean_squared_error: 7.0767e-04 - val_loss: 4.1517e-04 - val_mean_squared_error: 4.1517e-04\n",
            "Epoch 56/100\n",
            "9/9 [==============================] - 0s 14ms/step - loss: 8.7231e-04 - mean_squared_error: 8.7231e-04 - val_loss: 2.9033e-04 - val_mean_squared_error: 2.9033e-04\n",
            "Epoch 57/100\n",
            "9/9 [==============================] - 0s 13ms/step - loss: 9.5695e-04 - mean_squared_error: 9.5695e-04 - val_loss: 6.4808e-04 - val_mean_squared_error: 6.4808e-04\n",
            "Epoch 58/100\n",
            "9/9 [==============================] - 0s 13ms/step - loss: 9.0218e-04 - mean_squared_error: 9.0218e-04 - val_loss: 2.5626e-04 - val_mean_squared_error: 2.5626e-04\n",
            "Epoch 59/100\n",
            "9/9 [==============================] - 0s 13ms/step - loss: 7.5164e-04 - mean_squared_error: 7.5164e-04 - val_loss: 4.3610e-04 - val_mean_squared_error: 4.3610e-04\n",
            "Epoch 60/100\n",
            "9/9 [==============================] - 0s 14ms/step - loss: 7.7896e-04 - mean_squared_error: 7.7896e-04 - val_loss: 8.1710e-04 - val_mean_squared_error: 8.1710e-04\n",
            "Epoch 61/100\n",
            "9/9 [==============================] - 0s 13ms/step - loss: 5.6789e-04 - mean_squared_error: 5.6789e-04 - val_loss: 3.4366e-04 - val_mean_squared_error: 3.4366e-04\n",
            "Epoch 62/100\n",
            "9/9 [==============================] - 0s 14ms/step - loss: 7.1498e-04 - mean_squared_error: 7.1498e-04 - val_loss: 4.3858e-04 - val_mean_squared_error: 4.3858e-04\n",
            "Epoch 63/100\n",
            "9/9 [==============================] - 0s 13ms/step - loss: 7.2430e-04 - mean_squared_error: 7.2430e-04 - val_loss: 2.3717e-04 - val_mean_squared_error: 2.3717e-04\n",
            "Epoch 64/100\n",
            "9/9 [==============================] - 0s 14ms/step - loss: 7.7870e-04 - mean_squared_error: 7.7870e-04 - val_loss: 3.2324e-04 - val_mean_squared_error: 3.2324e-04\n",
            "Epoch 65/100\n",
            "9/9 [==============================] - 0s 14ms/step - loss: 7.5090e-04 - mean_squared_error: 7.5090e-04 - val_loss: 2.5058e-04 - val_mean_squared_error: 2.5058e-04\n",
            "Epoch 66/100\n",
            "9/9 [==============================] - 0s 14ms/step - loss: 6.8444e-04 - mean_squared_error: 6.8444e-04 - val_loss: 2.4167e-04 - val_mean_squared_error: 2.4167e-04\n",
            "Epoch 67/100\n",
            "9/9 [==============================] - 0s 14ms/step - loss: 7.5704e-04 - mean_squared_error: 7.5704e-04 - val_loss: 8.9680e-04 - val_mean_squared_error: 8.9680e-04\n",
            "Epoch 68/100\n",
            "9/9 [==============================] - 0s 14ms/step - loss: 6.7776e-04 - mean_squared_error: 6.7776e-04 - val_loss: 6.5952e-04 - val_mean_squared_error: 6.5952e-04\n",
            "Epoch 69/100\n",
            "9/9 [==============================] - 0s 14ms/step - loss: 7.0082e-04 - mean_squared_error: 7.0082e-04 - val_loss: 2.3127e-04 - val_mean_squared_error: 2.3127e-04\n",
            "Epoch 70/100\n",
            "9/9 [==============================] - 0s 14ms/step - loss: 6.7780e-04 - mean_squared_error: 6.7780e-04 - val_loss: 2.5371e-04 - val_mean_squared_error: 2.5371e-04\n",
            "Epoch 71/100\n",
            "9/9 [==============================] - 0s 14ms/step - loss: 6.7882e-04 - mean_squared_error: 6.7882e-04 - val_loss: 4.9663e-04 - val_mean_squared_error: 4.9663e-04\n",
            "Epoch 72/100\n",
            "9/9 [==============================] - 0s 13ms/step - loss: 5.0510e-04 - mean_squared_error: 5.0510e-04 - val_loss: 3.4135e-04 - val_mean_squared_error: 3.4135e-04\n",
            "Epoch 73/100\n",
            "9/9 [==============================] - 0s 14ms/step - loss: 7.0369e-04 - mean_squared_error: 7.0369e-04 - val_loss: 3.8541e-04 - val_mean_squared_error: 3.8541e-04\n",
            "Epoch 74/100\n",
            "9/9 [==============================] - 0s 14ms/step - loss: 6.6013e-04 - mean_squared_error: 6.6013e-04 - val_loss: 2.8406e-04 - val_mean_squared_error: 2.8406e-04\n",
            "Epoch 75/100\n",
            "9/9 [==============================] - 0s 14ms/step - loss: 6.7216e-04 - mean_squared_error: 6.7216e-04 - val_loss: 2.4429e-04 - val_mean_squared_error: 2.4429e-04\n",
            "Epoch 76/100\n",
            "9/9 [==============================] - 0s 15ms/step - loss: 5.4783e-04 - mean_squared_error: 5.4783e-04 - val_loss: 2.7195e-04 - val_mean_squared_error: 2.7195e-04\n",
            "Epoch 77/100\n",
            "9/9 [==============================] - 0s 14ms/step - loss: 8.4365e-04 - mean_squared_error: 8.4365e-04 - val_loss: 2.2804e-04 - val_mean_squared_error: 2.2804e-04\n",
            "Epoch 78/100\n",
            "9/9 [==============================] - 0s 14ms/step - loss: 7.0141e-04 - mean_squared_error: 7.0141e-04 - val_loss: 7.4042e-04 - val_mean_squared_error: 7.4042e-04\n",
            "Epoch 79/100\n",
            "9/9 [==============================] - 0s 13ms/step - loss: 7.8658e-04 - mean_squared_error: 7.8658e-04 - val_loss: 2.4430e-04 - val_mean_squared_error: 2.4430e-04\n",
            "Epoch 80/100\n",
            "9/9 [==============================] - 0s 14ms/step - loss: 7.5641e-04 - mean_squared_error: 7.5641e-04 - val_loss: 7.3386e-04 - val_mean_squared_error: 7.3386e-04\n",
            "Epoch 81/100\n",
            "9/9 [==============================] - 0s 15ms/step - loss: 6.6849e-04 - mean_squared_error: 6.6849e-04 - val_loss: 2.7254e-04 - val_mean_squared_error: 2.7254e-04\n",
            "Epoch 82/100\n",
            "9/9 [==============================] - 0s 14ms/step - loss: 6.7348e-04 - mean_squared_error: 6.7348e-04 - val_loss: 5.4370e-04 - val_mean_squared_error: 5.4370e-04\n",
            "Epoch 83/100\n",
            "9/9 [==============================] - 0s 14ms/step - loss: 8.3943e-04 - mean_squared_error: 8.3943e-04 - val_loss: 2.8351e-04 - val_mean_squared_error: 2.8351e-04\n",
            "Epoch 84/100\n",
            "9/9 [==============================] - 0s 14ms/step - loss: 5.1548e-04 - mean_squared_error: 5.1548e-04 - val_loss: 2.5307e-04 - val_mean_squared_error: 2.5307e-04\n",
            "Epoch 85/100\n",
            "9/9 [==============================] - 0s 14ms/step - loss: 5.9618e-04 - mean_squared_error: 5.9618e-04 - val_loss: 3.4524e-04 - val_mean_squared_error: 3.4524e-04\n",
            "Epoch 86/100\n",
            "9/9 [==============================] - 0s 14ms/step - loss: 5.5274e-04 - mean_squared_error: 5.5274e-04 - val_loss: 2.3422e-04 - val_mean_squared_error: 2.3422e-04\n",
            "Epoch 87/100\n",
            "9/9 [==============================] - 0s 14ms/step - loss: 7.9112e-04 - mean_squared_error: 7.9112e-04 - val_loss: 2.7404e-04 - val_mean_squared_error: 2.7404e-04\n",
            "Epoch 88/100\n",
            "9/9 [==============================] - 0s 14ms/step - loss: 5.8182e-04 - mean_squared_error: 5.8182e-04 - val_loss: 7.4901e-04 - val_mean_squared_error: 7.4901e-04\n",
            "Epoch 89/100\n",
            "9/9 [==============================] - 0s 14ms/step - loss: 5.2887e-04 - mean_squared_error: 5.2887e-04 - val_loss: 4.9291e-04 - val_mean_squared_error: 4.9291e-04\n",
            "Epoch 90/100\n",
            "9/9 [==============================] - 0s 14ms/step - loss: 6.5805e-04 - mean_squared_error: 6.5805e-04 - val_loss: 3.0754e-04 - val_mean_squared_error: 3.0754e-04\n",
            "Epoch 91/100\n",
            "9/9 [==============================] - 0s 14ms/step - loss: 5.6213e-04 - mean_squared_error: 5.6213e-04 - val_loss: 2.3018e-04 - val_mean_squared_error: 2.3018e-04\n",
            "Epoch 92/100\n",
            "9/9 [==============================] - 0s 14ms/step - loss: 7.0205e-04 - mean_squared_error: 7.0205e-04 - val_loss: 6.0932e-04 - val_mean_squared_error: 6.0932e-04\n",
            "Epoch 93/100\n",
            "9/9 [==============================] - 0s 13ms/step - loss: 7.3534e-04 - mean_squared_error: 7.3534e-04 - val_loss: 2.2705e-04 - val_mean_squared_error: 2.2705e-04\n",
            "Epoch 94/100\n",
            "9/9 [==============================] - 0s 15ms/step - loss: 6.6594e-04 - mean_squared_error: 6.6594e-04 - val_loss: 2.2543e-04 - val_mean_squared_error: 2.2543e-04\n",
            "Epoch 95/100\n",
            "9/9 [==============================] - 0s 14ms/step - loss: 5.4767e-04 - mean_squared_error: 5.4767e-04 - val_loss: 2.5497e-04 - val_mean_squared_error: 2.5497e-04\n",
            "Epoch 96/100\n",
            "9/9 [==============================] - 0s 13ms/step - loss: 6.9362e-04 - mean_squared_error: 6.9362e-04 - val_loss: 5.9578e-04 - val_mean_squared_error: 5.9578e-04\n",
            "Epoch 97/100\n",
            "9/9 [==============================] - 0s 14ms/step - loss: 7.6714e-04 - mean_squared_error: 7.6714e-04 - val_loss: 2.7634e-04 - val_mean_squared_error: 2.7634e-04\n",
            "Epoch 98/100\n",
            "9/9 [==============================] - 0s 14ms/step - loss: 6.2385e-04 - mean_squared_error: 6.2385e-04 - val_loss: 3.0797e-04 - val_mean_squared_error: 3.0797e-04\n",
            "Epoch 99/100\n",
            "9/9 [==============================] - 0s 14ms/step - loss: 8.1302e-04 - mean_squared_error: 8.1302e-04 - val_loss: 5.2036e-04 - val_mean_squared_error: 5.2036e-04\n",
            "Epoch 100/100\n",
            "9/9 [==============================] - 0s 14ms/step - loss: 7.0053e-04 - mean_squared_error: 7.0053e-04 - val_loss: 2.3329e-04 - val_mean_squared_error: 2.3329e-04\n"
          ]
        },
        {
          "output_type": "stream",
          "name": "stderr",
          "text": [
            "/usr/local/lib/python3.7/dist-packages/ipykernel_launcher.py:15: SettingWithCopyWarning: \n",
            "A value is trying to be set on a copy of a slice from a DataFrame.\n",
            "Try using .loc[row_indexer,col_indexer] = value instead\n",
            "\n",
            "See the caveats in the documentation: https://pandas.pydata.org/pandas-docs/stable/user_guide/indexing.html#returning-a-view-versus-a-copy\n",
            "  from ipykernel import kernelapp as app\n"
          ]
        },
        {
          "output_type": "execute_result",
          "data": {
            "text/plain": [
              "<matplotlib.axes._subplots.AxesSubplot at 0x7fa03f486a50>"
            ]
          },
          "metadata": {},
          "execution_count": 109
        },
        {
          "output_type": "display_data",
          "data": {
            "text/plain": [
              "<Figure size 432x288 with 1 Axes>"
            ],
            "image/png": "[encoded data removed]"
          },
          "metadata": {}
        }
      ],
      "source": [
        "# Fitting the RNN to the Training set\n",
        "history = regressor.fit(train_generator, validation_data=test_generator, epochs = 100, verbose=1, shuffle=False)\n",
        "\n",
        "train_predict = regressor.predict(train_generator)\n",
        "test_predict = regressor.predict(test_generator)\n",
        "# y_train_inv = scaler.inverse_transform(y_train.reshape(-1, 1))\n",
        "# y_test_inv = scaler.inverse_transform(y_test.reshape(-1, 1))\n",
        "df_train_final = pd.concat([pd.DataFrame(x_train[:,:-1][win_length:]),pd.DataFrame(train_predict)], axis = 1)\n",
        "df_test_final = pd.concat([pd.DataFrame(x_test[:,:-1][win_length:]),pd.DataFrame(test_predict),], axis = 1)\n",
        "inv_train= scaler.inverse_transform(df_train_final)\n",
        "inv_test = scaler.inverse_transform(df_test_final)\n",
        "inv_y_train = inv_train[:,-1]\n",
        "inv_y_test = inv_test[:,-1]\n",
        "df_final = df_daily[inv_y_test.shape[0]*-1:] #slicing\n",
        "df_final['Forecast'] = inv_y_test\n",
        "\n",
        "#"
      ]
    },
    {
      "cell_type": "code",
      "source": [
        "df_final.Weighted_Price.plot(legend = True, figsize = (20,10))\n",
        "df_final.Forecast.plot(legend = True)"
      ],
      "metadata": {
        "colab": {
          "base_uri": "https://localhost:8080/",
          "height": 519
        },
        "id": "4bB8peroMvk3",
        "outputId": "14b58984-e3c5-4464-e766-7dcd32a3401c"
      },
      "execution_count": null,
      "outputs": [
        {
          "output_type": "execute_result",
          "data": {
            "text/plain": [
              "<matplotlib.axes._subplots.AxesSubplot at 0x7fa03cc8c4d0>"
            ]
          },
          "metadata": {},
          "execution_count": 116
        },
        {
          "output_type": "display_data",
          "data": {
            "text/plain": [
              "<Figure size 1440x720 with 1 Axes>"
            ],
            "image/png": "[encoded data removed]"
          },
          "metadata": {}
        }
      ]
    },
    {
      "cell_type": "code",
      "source": [
        "from sklearn.metrics import mean_squared_error, mean_absolute_error\n",
        "\n",
        "print(\"RMSE of Auto ARIMAX:\", np.sqrt(mean_squared_error(df_final['Weighted_Price'],df_final['Forecast'])))"
      ],
      "metadata": {
        "colab": {
          "base_uri": "https://localhost:8080/"
        },
        "id": "IFKrHCj99Ivz",
        "outputId": "6807629c-d9a4-42fe-d9b6-4b48104a28a7"
      },
      "execution_count": null,
      "outputs": [
        {
          "output_type": "stream",
          "name": "stdout",
          "text": [
            "RMSE of Auto ARIMAX: 296.0244716202883\n"
          ]
        }
      ]
    },
    {
      "cell_type": "markdown",
      "source": [
        "Deep Learning approach gives the error much bigger than those of SARIMAX that is nearly over 300 USD. It is not good "
      ],
      "metadata": {
        "id": "Z5xNUjwe_hSs"
      }
    }
  ],
  "metadata": {
    "accelerator": "GPU",
    "colab": {
      "collapsed_sections": [],
      "provenance": []
    },
    "kernelspec": {
      "display_name": "Python 3",
      "name": "python3"
    },
    "language_info": {
      "name": "python"
    }
  },
  "nbformat": 4,
  "nbformat_minor": 0
}